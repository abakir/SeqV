{
  "nbformat": 4,
  "nbformat_minor": 0,
  "metadata": {
    "colab": {
      "provenance": []
    },
    "kernelspec": {
      "name": "python3",
      "display_name": "Python 3"
    },
    "language_info": {
      "name": "python"
    }
  },
  "cells": [
    {
      "cell_type": "code",
      "metadata": {
        "id": "tJES7EC0bQ92"
      },
      "source": [
        "import pandas as pd \n",
        "import numpy as np\n",
        "import matplotlib.pyplot as plt\n",
        "import seaborn as sns"
      ],
      "execution_count": null,
      "outputs": []
    },
    {
      "cell_type": "code",
      "metadata": {
        "id": "xWcQumZkblg2"
      },
      "source": [
        "GU_D = pd.read_csv('/content/drive/MyDrive/FOREX/trademade_GBP_USD.csv')\n",
        "GU_D.rename(columns={'date':'Date','open':'Open','high':'High','low':'Low','close':'Close'}, inplace=True)"
      ],
      "execution_count": null,
      "outputs": []
    },
    {
      "cell_type": "code",
      "metadata": {
        "id": "ZLqNPNg867xV"
      },
      "source": [],
      "execution_count": null,
      "outputs": []
    },
    {
      "cell_type": "code",
      "metadata": {
        "id": "_7tY3gJ4btkI"
      },
      "source": [
        "GU_D['Date'] = pd.to_datetime(GU_D['Date'])"
      ],
      "execution_count": null,
      "outputs": []
    },
    {
      "cell_type": "code",
      "metadata": {
        "id": "KDWO7W6bby1m"
      },
      "source": [
        "df_new = GU_D.drop('Unnamed: 0', axis=1)"
      ],
      "execution_count": null,
      "outputs": []
    },
    {
      "cell_type": "code",
      "metadata": {
        "id": "zTTg4ZDn2Dkp"
      },
      "source": [
        "df_new['Candle'] = df_new['Close']- df_new['Open']\n",
        "df_new['PIPS'] = df_new['Candle']*10000"
      ],
      "execution_count": null,
      "outputs": []
    },
    {
      "cell_type": "code",
      "metadata": {
        "colab": {
          "base_uri": "https://localhost:8080/",
          "height": 204
        },
        "id": "OUraJ6co2PUf",
        "outputId": "41e33490-d2ee-4e7d-96fe-29272ba59f21"
      },
      "source": [
        "df_new.head()"
      ],
      "execution_count": null,
      "outputs": [
        {
          "output_type": "execute_result",
          "data": {
            "text/html": [
              "<div>\n",
              "<style scoped>\n",
              "    .dataframe tbody tr th:only-of-type {\n",
              "        vertical-align: middle;\n",
              "    }\n",
              "\n",
              "    .dataframe tbody tr th {\n",
              "        vertical-align: top;\n",
              "    }\n",
              "\n",
              "    .dataframe thead th {\n",
              "        text-align: right;\n",
              "    }\n",
              "</style>\n",
              "<table border=\"1\" class=\"dataframe\">\n",
              "  <thead>\n",
              "    <tr style=\"text-align: right;\">\n",
              "      <th></th>\n",
              "      <th>Date</th>\n",
              "      <th>Open</th>\n",
              "      <th>High</th>\n",
              "      <th>Low</th>\n",
              "      <th>Close</th>\n",
              "      <th>Candle</th>\n",
              "      <th>PIPS</th>\n",
              "    </tr>\n",
              "  </thead>\n",
              "  <tbody>\n",
              "    <tr>\n",
              "      <th>0</th>\n",
              "      <td>2010-06-15</td>\n",
              "      <td>1.4745</td>\n",
              "      <td>1.4834</td>\n",
              "      <td>1.4690</td>\n",
              "      <td>1.4807</td>\n",
              "      <td>0.0062</td>\n",
              "      <td>62.0</td>\n",
              "    </tr>\n",
              "    <tr>\n",
              "      <th>1</th>\n",
              "      <td>2010-06-16</td>\n",
              "      <td>1.4806</td>\n",
              "      <td>1.4851</td>\n",
              "      <td>1.4729</td>\n",
              "      <td>1.4730</td>\n",
              "      <td>-0.0076</td>\n",
              "      <td>-76.0</td>\n",
              "    </tr>\n",
              "    <tr>\n",
              "      <th>2</th>\n",
              "      <td>2010-06-17</td>\n",
              "      <td>1.4728</td>\n",
              "      <td>1.4836</td>\n",
              "      <td>1.4648</td>\n",
              "      <td>1.4822</td>\n",
              "      <td>0.0094</td>\n",
              "      <td>94.0</td>\n",
              "    </tr>\n",
              "    <tr>\n",
              "      <th>3</th>\n",
              "      <td>2010-06-18</td>\n",
              "      <td>1.4822</td>\n",
              "      <td>1.4883</td>\n",
              "      <td>1.4775</td>\n",
              "      <td>1.4825</td>\n",
              "      <td>0.0003</td>\n",
              "      <td>3.0</td>\n",
              "    </tr>\n",
              "    <tr>\n",
              "      <th>4</th>\n",
              "      <td>2010-06-21</td>\n",
              "      <td>1.4860</td>\n",
              "      <td>1.4932</td>\n",
              "      <td>1.4740</td>\n",
              "      <td>1.4758</td>\n",
              "      <td>-0.0102</td>\n",
              "      <td>-102.0</td>\n",
              "    </tr>\n",
              "  </tbody>\n",
              "</table>\n",
              "</div>"
            ],
            "text/plain": [
              "        Date    Open    High     Low   Close  Candle   PIPS\n",
              "0 2010-06-15  1.4745  1.4834  1.4690  1.4807  0.0062   62.0\n",
              "1 2010-06-16  1.4806  1.4851  1.4729  1.4730 -0.0076  -76.0\n",
              "2 2010-06-17  1.4728  1.4836  1.4648  1.4822  0.0094   94.0\n",
              "3 2010-06-18  1.4822  1.4883  1.4775  1.4825  0.0003    3.0\n",
              "4 2010-06-21  1.4860  1.4932  1.4740  1.4758 -0.0102 -102.0"
            ]
          },
          "metadata": {
            "tags": []
          },
          "execution_count": 6
        }
      ]
    },
    {
      "cell_type": "code",
      "metadata": {
        "colab": {
          "base_uri": "https://localhost:8080/",
          "height": 297
        },
        "id": "HQ7xlHMMm-Dd",
        "outputId": "37eae1d6-ee13-44fa-8cff-154e2470d1bd"
      },
      "source": [
        "df_new.describe()"
      ],
      "execution_count": null,
      "outputs": [
        {
          "output_type": "execute_result",
          "data": {
            "text/html": [
              "<div>\n",
              "<style scoped>\n",
              "    .dataframe tbody tr th:only-of-type {\n",
              "        vertical-align: middle;\n",
              "    }\n",
              "\n",
              "    .dataframe tbody tr th {\n",
              "        vertical-align: top;\n",
              "    }\n",
              "\n",
              "    .dataframe thead th {\n",
              "        text-align: right;\n",
              "    }\n",
              "</style>\n",
              "<table border=\"1\" class=\"dataframe\">\n",
              "  <thead>\n",
              "    <tr style=\"text-align: right;\">\n",
              "      <th></th>\n",
              "      <th>Open</th>\n",
              "      <th>High</th>\n",
              "      <th>Low</th>\n",
              "      <th>Close</th>\n",
              "      <th>Candle</th>\n",
              "      <th>PIPS</th>\n",
              "    </tr>\n",
              "  </thead>\n",
              "  <tbody>\n",
              "    <tr>\n",
              "      <th>count</th>\n",
              "      <td>2871.000000</td>\n",
              "      <td>2871.000000</td>\n",
              "      <td>2871.000000</td>\n",
              "      <td>2871.000000</td>\n",
              "      <td>2871.000000</td>\n",
              "      <td>2871.000000</td>\n",
              "    </tr>\n",
              "    <tr>\n",
              "      <th>mean</th>\n",
              "      <td>1.450181</td>\n",
              "      <td>1.455909</td>\n",
              "      <td>1.444341</td>\n",
              "      <td>1.450199</td>\n",
              "      <td>0.000018</td>\n",
              "      <td>0.180286</td>\n",
              "    </tr>\n",
              "    <tr>\n",
              "      <th>std</th>\n",
              "      <td>0.146171</td>\n",
              "      <td>0.145962</td>\n",
              "      <td>0.146322</td>\n",
              "      <td>0.146156</td>\n",
              "      <td>0.007753</td>\n",
              "      <td>77.532202</td>\n",
              "    </tr>\n",
              "    <tr>\n",
              "      <th>min</th>\n",
              "      <td>1.148680</td>\n",
              "      <td>1.171540</td>\n",
              "      <td>1.141180</td>\n",
              "      <td>1.148680</td>\n",
              "      <td>-0.119020</td>\n",
              "      <td>-1190.200000</td>\n",
              "    </tr>\n",
              "    <tr>\n",
              "      <th>25%</th>\n",
              "      <td>1.305170</td>\n",
              "      <td>1.311300</td>\n",
              "      <td>1.300515</td>\n",
              "      <td>1.305090</td>\n",
              "      <td>-0.004345</td>\n",
              "      <td>-43.450000</td>\n",
              "    </tr>\n",
              "    <tr>\n",
              "      <th>50%</th>\n",
              "      <td>1.481520</td>\n",
              "      <td>1.487350</td>\n",
              "      <td>1.472640</td>\n",
              "      <td>1.481500</td>\n",
              "      <td>-0.000020</td>\n",
              "      <td>-0.200000</td>\n",
              "    </tr>\n",
              "    <tr>\n",
              "      <th>75%</th>\n",
              "      <td>1.580100</td>\n",
              "      <td>1.586150</td>\n",
              "      <td>1.573350</td>\n",
              "      <td>1.580300</td>\n",
              "      <td>0.004500</td>\n",
              "      <td>45.000000</td>\n",
              "    </tr>\n",
              "    <tr>\n",
              "      <th>max</th>\n",
              "      <td>1.716580</td>\n",
              "      <td>1.719220</td>\n",
              "      <td>1.714000</td>\n",
              "      <td>1.716570</td>\n",
              "      <td>0.035220</td>\n",
              "      <td>352.200000</td>\n",
              "    </tr>\n",
              "  </tbody>\n",
              "</table>\n",
              "</div>"
            ],
            "text/plain": [
              "              Open         High  ...       Candle         PIPS\n",
              "count  2871.000000  2871.000000  ...  2871.000000  2871.000000\n",
              "mean      1.450181     1.455909  ...     0.000018     0.180286\n",
              "std       0.146171     0.145962  ...     0.007753    77.532202\n",
              "min       1.148680     1.171540  ...    -0.119020 -1190.200000\n",
              "25%       1.305170     1.311300  ...    -0.004345   -43.450000\n",
              "50%       1.481520     1.487350  ...    -0.000020    -0.200000\n",
              "75%       1.580100     1.586150  ...     0.004500    45.000000\n",
              "max       1.716580     1.719220  ...     0.035220   352.200000\n",
              "\n",
              "[8 rows x 6 columns]"
            ]
          },
          "metadata": {
            "tags": []
          },
          "execution_count": 7
        }
      ]
    },
    {
      "cell_type": "code",
      "metadata": {
        "colab": {
          "base_uri": "https://localhost:8080/"
        },
        "id": "rXkCpHrBo151",
        "outputId": "3492548e-56fe-4822-bc08-1a32048d079a"
      },
      "source": [
        "abs(df_new['PIPS']).mean()"
      ],
      "execution_count": null,
      "outputs": [
        {
          "output_type": "execute_result",
          "data": {
            "text/plain": [
              "56.600835945663626"
            ]
          },
          "metadata": {
            "tags": []
          },
          "execution_count": 8
        }
      ]
    },
    {
      "cell_type": "code",
      "metadata": {
        "colab": {
          "base_uri": "https://localhost:8080/"
        },
        "id": "A6Yq8fPvF00Q",
        "outputId": "201b5047-ebbe-453d-cbe4-d87801993c56"
      },
      "source": [
        "!pip install ta\n",
        "!pip install pandas_ta"
      ],
      "execution_count": null,
      "outputs": [
        {
          "output_type": "stream",
          "text": [
            "Requirement already satisfied: ta in /usr/local/lib/python3.7/dist-packages (0.7.0)\n",
            "Requirement already satisfied: numpy in /usr/local/lib/python3.7/dist-packages (from ta) (1.19.5)\n",
            "Requirement already satisfied: pandas in /usr/local/lib/python3.7/dist-packages (from ta) (1.1.5)\n",
            "Requirement already satisfied: python-dateutil>=2.7.3 in /usr/local/lib/python3.7/dist-packages (from pandas->ta) (2.8.1)\n",
            "Requirement already satisfied: pytz>=2017.2 in /usr/local/lib/python3.7/dist-packages (from pandas->ta) (2018.9)\n",
            "Requirement already satisfied: six>=1.5 in /usr/local/lib/python3.7/dist-packages (from python-dateutil>=2.7.3->pandas->ta) (1.15.0)\n",
            "Requirement already satisfied: pandas_ta in /usr/local/lib/python3.7/dist-packages (0.2.45b0)\n",
            "Requirement already satisfied: pandas in /usr/local/lib/python3.7/dist-packages (from pandas_ta) (1.1.5)\n",
            "Requirement already satisfied: numpy>=1.15.4 in /usr/local/lib/python3.7/dist-packages (from pandas->pandas_ta) (1.19.5)\n",
            "Requirement already satisfied: python-dateutil>=2.7.3 in /usr/local/lib/python3.7/dist-packages (from pandas->pandas_ta) (2.8.1)\n",
            "Requirement already satisfied: pytz>=2017.2 in /usr/local/lib/python3.7/dist-packages (from pandas->pandas_ta) (2018.9)\n",
            "Requirement already satisfied: six>=1.5 in /usr/local/lib/python3.7/dist-packages (from python-dateutil>=2.7.3->pandas->pandas_ta) (1.15.0)\n"
          ],
          "name": "stdout"
        }
      ]
    },
    {
      "cell_type": "code",
      "metadata": {
        "colab": {
          "base_uri": "https://localhost:8080/"
        },
        "id": "vEaQuLyuF_gp",
        "outputId": "908fe42d-86fd-439e-9f86-fc9baf32dabd"
      },
      "source": [
        "from ta.trend import PSARIndicator \n",
        "from ta.momentum import RSIIndicator\n",
        "from ta.momentum import StochasticOscillator\n",
        "from ta.momentum import WilliamsRIndicator\n",
        "from ta.volatility import BollingerBands\n",
        "from ta.trend import ADXIndicator\n",
        "from ta.volatility import AverageTrueRange\n",
        "from ta.trend import IchimokuIndicator\n",
        "from ta.trend import MACD\n",
        "import pandas_ta as pta\n",
        "\n",
        "#Heikin-Ashi - renames cols\n",
        "df_new.ta.ha(append=True)\n",
        "df_new.ta.cdl_doji(append=True)\n",
        "df_new.ta.cdl_inside(append=True)\n",
        "\n",
        "#re-rename cols\n",
        "df_new.rename(columns={'date':'Date','open':'Open','high':'High','low':'Low','close':'Close'}, inplace=True)\n",
        "\n",
        "#PSAR\n",
        "psar = PSARIndicator(df_new['High'], df_new['Low'], df_new['Close'])\n",
        "df_new['PSAR'] = psar.psar()\n",
        "\n",
        "#PSAR indicators\n",
        "\n",
        "df_new['PSAR_d_i'] =psar.psar_down_indicator()\n",
        "df_new['PSAR_u_i'] =psar.psar_up_indicator()\n",
        "\n",
        "#RSI 5 & 14\n",
        "rsi_5 = RSIIndicator(df_new['Close'], 5)\n",
        "rsi_14 = RSIIndicator(df_new['Close'], 14)\n",
        "\n",
        "df_new['RSI_5'] = rsi_5.rsi()\n",
        "df_new['RSI_14'] = rsi_14.rsi()\n",
        "\n",
        "# stochastic oscillator\n",
        "SO = StochasticOscillator(df_new['High'], df_new['Low'], df_new['Close'])\n",
        "df_new['SO'] = SO.stoch()\n",
        "df_new['SO_signal'] = SO.stoch_signal()\n",
        "\n",
        "#william indicator\n",
        "WI = WilliamsRIndicator(df_new['High'], df_new['Low'], df_new['Close'])\n",
        "df_new['WI'] = WI.williams_r()\n",
        "\n",
        "# Bollinger\n",
        "Bol =  BollingerBands(df_new['Close'])\n",
        "df_new['h_Bol'] = Bol.bollinger_hband()\n",
        "df_new['m_Bol'] = Bol.bollinger_mavg()\n",
        "df_new['l_Bol'] = Bol.bollinger_lband()\n",
        "\n",
        "# check ta adx vs calculated\n",
        "adx_ta = ADXIndicator(df_new['High'], df_new['Low'], df_new['Close'], 10)\n",
        "df_new['ADX'] = adx_ta.adx()\n",
        "\n",
        "# DI pos & neg\n",
        "df_new['DI_pos'] = adx_ta.adx_pos() \n",
        "df_new['DI_neg'] = adx_ta.adx_neg() \n",
        " \n",
        "\n",
        "# check av true range ta vs calculated\n",
        "atr = AverageTrueRange(df_new['High'], df_new['Low'], df_new['Close'])\n",
        "df_new['ATR'] = atr.average_true_range() \n",
        "\n",
        "# sample standard deviation (n = 20), .std method defaults to n-1 in denominator\n",
        "df_new['SSD'] = df_new['Close'].rolling(20).std()\n",
        "\n",
        "# price moving averages\n",
        "\n",
        "df_new['avg_price_5'] = df_new['Close'].rolling(window=5).mean()\n",
        "df_new['avg_price_10'] = df_new['Close'].rolling(window=10).mean()\n",
        "\n",
        "#Ichimoko\n",
        "Ichimoku = IchimokuIndicator(df_new['High'], df_new['Low'],7,22,44) \n",
        "# Senkou Span A\n",
        "df_new['Senkou_Span_A'] = Ichimoku.ichimoku_a()\n",
        "# Senkou Span B\n",
        "df_new['Senkou_Span_B'] = Ichimoku.ichimoku_b()\n",
        "# Kijun sen\n",
        "df_new['Kijun_sen'] = Ichimoku.ichimoku_base_line() \n",
        "# Tenkan sen\n",
        "df_new['Tenkan-sen'] = Ichimoku.ichimoku_conversion_line() \n",
        "\n",
        "# MACD indicators\n",
        "\n",
        "# MACD - defaults periods 26 & 12 and 9 for signal\n",
        "macd = MACD(df_new['Close'])\n",
        "df_new['MACD'] = macd.macd()\n",
        "\n",
        "#DIF\n",
        "df_new['DIF'] = macd.macd_diff() \n",
        "\n",
        "#DEA(signal)\n",
        "df_new['DEA'] = macd.macd_signal()"
      ],
      "execution_count": null,
      "outputs": [
        {
          "output_type": "stream",
          "text": [
            "/usr/local/lib/python3.7/dist-packages/ta/trend.py:768: RuntimeWarning: invalid value encountered in double_scalars\n",
            "  dip[i] = 100 * (self._dip[i] / self._trs[i])\n",
            "/usr/local/lib/python3.7/dist-packages/ta/trend.py:772: RuntimeWarning: invalid value encountered in double_scalars\n",
            "  din[i] = 100 * (self._din[i] / self._trs[i])\n"
          ],
          "name": "stderr"
        }
      ]
    },
    {
      "cell_type": "code",
      "metadata": {
        "id": "ClCe3axId9O7"
      },
      "source": [
        "training_set = df_new.loc[:,['Open','High','Low','Close','avg_price_5','avg_price_10','ADX','MACD','SO','SO_signal','PIPS']]"
      ],
      "execution_count": null,
      "outputs": []
    },
    {
      "cell_type": "code",
      "metadata": {
        "colab": {
          "base_uri": "https://localhost:8080/",
          "height": 204
        },
        "id": "H8ZDUBXIjx6p",
        "outputId": "f0183a4d-e2e2-4853-db11-d1a3d273cb81"
      },
      "source": [
        "training_set.head()"
      ],
      "execution_count": null,
      "outputs": [
        {
          "output_type": "execute_result",
          "data": {
            "text/html": [
              "<div>\n",
              "<style scoped>\n",
              "    .dataframe tbody tr th:only-of-type {\n",
              "        vertical-align: middle;\n",
              "    }\n",
              "\n",
              "    .dataframe tbody tr th {\n",
              "        vertical-align: top;\n",
              "    }\n",
              "\n",
              "    .dataframe thead th {\n",
              "        text-align: right;\n",
              "    }\n",
              "</style>\n",
              "<table border=\"1\" class=\"dataframe\">\n",
              "  <thead>\n",
              "    <tr style=\"text-align: right;\">\n",
              "      <th></th>\n",
              "      <th>Open</th>\n",
              "      <th>High</th>\n",
              "      <th>Low</th>\n",
              "      <th>Close</th>\n",
              "      <th>avg_price_5</th>\n",
              "      <th>avg_price_10</th>\n",
              "      <th>ADX</th>\n",
              "      <th>MACD</th>\n",
              "      <th>SO</th>\n",
              "      <th>SO_signal</th>\n",
              "      <th>PIPS</th>\n",
              "    </tr>\n",
              "  </thead>\n",
              "  <tbody>\n",
              "    <tr>\n",
              "      <th>0</th>\n",
              "      <td>1.4745</td>\n",
              "      <td>1.4834</td>\n",
              "      <td>1.4690</td>\n",
              "      <td>1.4807</td>\n",
              "      <td>NaN</td>\n",
              "      <td>NaN</td>\n",
              "      <td>0.0</td>\n",
              "      <td>NaN</td>\n",
              "      <td>NaN</td>\n",
              "      <td>NaN</td>\n",
              "      <td>62.0</td>\n",
              "    </tr>\n",
              "    <tr>\n",
              "      <th>1</th>\n",
              "      <td>1.4806</td>\n",
              "      <td>1.4851</td>\n",
              "      <td>1.4729</td>\n",
              "      <td>1.4730</td>\n",
              "      <td>NaN</td>\n",
              "      <td>NaN</td>\n",
              "      <td>0.0</td>\n",
              "      <td>NaN</td>\n",
              "      <td>NaN</td>\n",
              "      <td>NaN</td>\n",
              "      <td>-76.0</td>\n",
              "    </tr>\n",
              "    <tr>\n",
              "      <th>2</th>\n",
              "      <td>1.4728</td>\n",
              "      <td>1.4836</td>\n",
              "      <td>1.4648</td>\n",
              "      <td>1.4822</td>\n",
              "      <td>NaN</td>\n",
              "      <td>NaN</td>\n",
              "      <td>0.0</td>\n",
              "      <td>NaN</td>\n",
              "      <td>NaN</td>\n",
              "      <td>NaN</td>\n",
              "      <td>94.0</td>\n",
              "    </tr>\n",
              "    <tr>\n",
              "      <th>3</th>\n",
              "      <td>1.4822</td>\n",
              "      <td>1.4883</td>\n",
              "      <td>1.4775</td>\n",
              "      <td>1.4825</td>\n",
              "      <td>NaN</td>\n",
              "      <td>NaN</td>\n",
              "      <td>0.0</td>\n",
              "      <td>NaN</td>\n",
              "      <td>NaN</td>\n",
              "      <td>NaN</td>\n",
              "      <td>3.0</td>\n",
              "    </tr>\n",
              "    <tr>\n",
              "      <th>4</th>\n",
              "      <td>1.4860</td>\n",
              "      <td>1.4932</td>\n",
              "      <td>1.4740</td>\n",
              "      <td>1.4758</td>\n",
              "      <td>1.47884</td>\n",
              "      <td>NaN</td>\n",
              "      <td>0.0</td>\n",
              "      <td>NaN</td>\n",
              "      <td>NaN</td>\n",
              "      <td>NaN</td>\n",
              "      <td>-102.0</td>\n",
              "    </tr>\n",
              "  </tbody>\n",
              "</table>\n",
              "</div>"
            ],
            "text/plain": [
              "     Open    High     Low   Close  avg_price_5  ...  ADX  MACD  SO  SO_signal   PIPS\n",
              "0  1.4745  1.4834  1.4690  1.4807          NaN  ...  0.0   NaN NaN        NaN   62.0\n",
              "1  1.4806  1.4851  1.4729  1.4730          NaN  ...  0.0   NaN NaN        NaN  -76.0\n",
              "2  1.4728  1.4836  1.4648  1.4822          NaN  ...  0.0   NaN NaN        NaN   94.0\n",
              "3  1.4822  1.4883  1.4775  1.4825          NaN  ...  0.0   NaN NaN        NaN    3.0\n",
              "4  1.4860  1.4932  1.4740  1.4758      1.47884  ...  0.0   NaN NaN        NaN -102.0\n",
              "\n",
              "[5 rows x 11 columns]"
            ]
          },
          "metadata": {
            "tags": []
          },
          "execution_count": 402
        }
      ]
    },
    {
      "cell_type": "code",
      "metadata": {
        "id": "u8orzlLlJXkN"
      },
      "source": [
        "training_set.dropna(inplace=True)"
      ],
      "execution_count": null,
      "outputs": []
    },
    {
      "cell_type": "code",
      "metadata": {
        "colab": {
          "base_uri": "https://localhost:8080/"
        },
        "id": "gjYTa3_9BqEf",
        "outputId": "1f02051d-c311-4b68-a12b-fc4cac5ea4a4"
      },
      "source": [
        "training_set.shape"
      ],
      "execution_count": null,
      "outputs": [
        {
          "output_type": "execute_result",
          "data": {
            "text/plain": [
              "(2846, 11)"
            ]
          },
          "metadata": {
            "tags": []
          },
          "execution_count": 404
        }
      ]
    },
    {
      "cell_type": "code",
      "metadata": {
        "id": "jVEc6I0UeyuY"
      },
      "source": [
        "from sklearn.preprocessing import MinMaxScaler\n",
        "sc = MinMaxScaler(feature_range=(0,1))\n",
        "sc = sc.fit(training_set)\n",
        "training_set = sc.fit_transform(training_set)"
      ],
      "execution_count": null,
      "outputs": []
    },
    {
      "cell_type": "code",
      "metadata": {
        "id": "2K4S47VzO4Od"
      },
      "source": [
        "trainX = []\n",
        "trainY = []\n",
        "n_future = 1\n",
        "n_past = 3"
      ],
      "execution_count": null,
      "outputs": []
    },
    {
      "cell_type": "code",
      "metadata": {
        "id": "Bvg5tK2HPCoS"
      },
      "source": [
        "for i in range(n_past, len(training_set)-n_future+1):\n",
        "  trainX.append(training_set[i - n_past:i, 0:training_set.shape[1]])\n",
        "  trainY.append(training_set[i + n_future-1:i+n_future, 10])"
      ],
      "execution_count": null,
      "outputs": []
    },
    {
      "cell_type": "code",
      "metadata": {
        "id": "ZgVmlTVHQjb1"
      },
      "source": [
        "# convert list to np array\n",
        "trainX, trainY = np.array(trainX), np.array(trainY)"
      ],
      "execution_count": null,
      "outputs": []
    },
    {
      "cell_type": "code",
      "metadata": {
        "colab": {
          "base_uri": "https://localhost:8080/"
        },
        "id": "5jlO_1JdMHeq",
        "outputId": "e0cb3e66-021a-4d51-da29-ff5f6a8a9f16"
      },
      "source": [
        "trainX.shape"
      ],
      "execution_count": null,
      "outputs": [
        {
          "output_type": "execute_result",
          "data": {
            "text/plain": [
              "(2825, 20, 11)"
            ]
          },
          "metadata": {
            "tags": []
          },
          "execution_count": 440
        }
      ]
    },
    {
      "cell_type": "code",
      "metadata": {
        "id": "NovqnLe6G_WL"
      },
      "source": [
        "train_size = int(len(trainX) * 0.9)\n",
        "test_size = len(trainX) - train_size\n",
        "\n",
        "X_train, X_test = trainX[0:train_size], trainX[train_size:len(trainX)]\n",
        "y_train, y_test = trainY[0:train_size], trainY[train_size:len(trainY)]"
      ],
      "execution_count": null,
      "outputs": []
    },
    {
      "cell_type": "code",
      "metadata": {
        "colab": {
          "base_uri": "https://localhost:8080/"
        },
        "id": "VKZBg138Mgj-",
        "outputId": "1cbf25a4-ea49-46aa-9df1-07727f6fefcb"
      },
      "source": [
        "y_train.shape"
      ],
      "execution_count": null,
      "outputs": [
        {
          "output_type": "execute_result",
          "data": {
            "text/plain": [
              "(2260, 1)"
            ]
          },
          "metadata": {
            "tags": []
          },
          "execution_count": 442
        }
      ]
    },
    {
      "cell_type": "code",
      "metadata": {
        "id": "hY0o25o7Qsh8"
      },
      "source": [
        "# import Keras modules\n",
        "from keras.models import Sequential\n",
        "from keras.layers import Dense\n",
        "from keras.layers import Dropout\n",
        "from keras.layers import LSTM"
      ],
      "execution_count": null,
      "outputs": []
    },
    {
      "cell_type": "code",
      "metadata": {
        "colab": {
          "base_uri": "https://localhost:8080/"
        },
        "id": "Yz3wsAouQWfL",
        "outputId": "f5fea86d-2b1e-4a6a-acdd-bf97524c7c60"
      },
      "source": [
        "model = Sequential()\n",
        "model.add(LSTM(64,activation='sigmoid', input_shape = (X_train.shape[1], X_train.shape[2]), return_sequences=True))\n",
        "model.add(LSTM(32,activation='sigmoid', return_sequences=False))\n",
        "model.add(Dropout(0.2))\n",
        "model.add(Dense(y_train.shape[1]))\n",
        "model.compile(optimizer ='adam', loss='mean_absolute_error')\n",
        "model.summary()\n"
      ],
      "execution_count": null,
      "outputs": [
        {
          "output_type": "stream",
          "text": [
            "Model: \"sequential_22\"\n",
            "_________________________________________________________________\n",
            "Layer (type)                 Output Shape              Param #   \n",
            "=================================================================\n",
            "lstm_44 (LSTM)               (None, 3, 64)             19456     \n",
            "_________________________________________________________________\n",
            "lstm_45 (LSTM)               (None, 32)                12416     \n",
            "_________________________________________________________________\n",
            "dropout_22 (Dropout)         (None, 32)                0         \n",
            "_________________________________________________________________\n",
            "dense_22 (Dense)             (None, 1)                 33        \n",
            "=================================================================\n",
            "Total params: 31,905\n",
            "Trainable params: 31,905\n",
            "Non-trainable params: 0\n",
            "_________________________________________________________________\n"
          ],
          "name": "stdout"
        }
      ]
    },
    {
      "cell_type": "code",
      "metadata": {
        "colab": {
          "base_uri": "https://localhost:8080/"
        },
        "id": "8Fw28McDVNCh",
        "outputId": "598a173c-eb58-4385-f0a8-6a3e36995c41"
      },
      "source": [
        "history = model.fit(trainX, trainY, epochs = 50, batch_size=50, validation_data = (X_test, y_test))"
      ],
      "execution_count": null,
      "outputs": [
        {
          "output_type": "stream",
          "text": [
            "Epoch 1/50\n",
            "57/57 [==============================] - 5s 22ms/step - loss: 0.1915 - val_loss: 0.0462\n",
            "Epoch 2/50\n",
            "57/57 [==============================] - 0s 6ms/step - loss: 0.1190 - val_loss: 0.0364\n",
            "Epoch 3/50\n",
            "57/57 [==============================] - 0s 6ms/step - loss: 0.0887 - val_loss: 0.0337\n",
            "Epoch 4/50\n",
            "57/57 [==============================] - 0s 6ms/step - loss: 0.0817 - val_loss: 0.0432\n",
            "Epoch 5/50\n",
            "57/57 [==============================] - 0s 7ms/step - loss: 0.0784 - val_loss: 0.0374\n",
            "Epoch 6/50\n",
            "57/57 [==============================] - 0s 6ms/step - loss: 0.0748 - val_loss: 0.0329\n",
            "Epoch 7/50\n",
            "57/57 [==============================] - 0s 6ms/step - loss: 0.0724 - val_loss: 0.0330\n",
            "Epoch 8/50\n",
            "57/57 [==============================] - 0s 6ms/step - loss: 0.0716 - val_loss: 0.0369\n",
            "Epoch 9/50\n",
            "57/57 [==============================] - 0s 6ms/step - loss: 0.0686 - val_loss: 0.0379\n",
            "Epoch 10/50\n",
            "57/57 [==============================] - 0s 6ms/step - loss: 0.0679 - val_loss: 0.0329\n",
            "Epoch 11/50\n",
            "57/57 [==============================] - 0s 6ms/step - loss: 0.0659 - val_loss: 0.0393\n",
            "Epoch 12/50\n",
            "57/57 [==============================] - 0s 6ms/step - loss: 0.0627 - val_loss: 0.0329\n",
            "Epoch 13/50\n",
            "57/57 [==============================] - 0s 7ms/step - loss: 0.0618 - val_loss: 0.0341\n",
            "Epoch 14/50\n",
            "57/57 [==============================] - 0s 6ms/step - loss: 0.0600 - val_loss: 0.0332\n",
            "Epoch 15/50\n",
            "57/57 [==============================] - 0s 6ms/step - loss: 0.0581 - val_loss: 0.0367\n",
            "Epoch 16/50\n",
            "57/57 [==============================] - 0s 6ms/step - loss: 0.0566 - val_loss: 0.0330\n",
            "Epoch 17/50\n",
            "57/57 [==============================] - 0s 6ms/step - loss: 0.0556 - val_loss: 0.0363\n",
            "Epoch 18/50\n",
            "57/57 [==============================] - 0s 6ms/step - loss: 0.0545 - val_loss: 0.0366\n",
            "Epoch 19/50\n",
            "57/57 [==============================] - 0s 6ms/step - loss: 0.0516 - val_loss: 0.0356\n",
            "Epoch 20/50\n",
            "57/57 [==============================] - 0s 6ms/step - loss: 0.0512 - val_loss: 0.0329\n",
            "Epoch 21/50\n",
            "57/57 [==============================] - 0s 6ms/step - loss: 0.0502 - val_loss: 0.0338\n",
            "Epoch 22/50\n",
            "57/57 [==============================] - 0s 6ms/step - loss: 0.0491 - val_loss: 0.0332\n",
            "Epoch 23/50\n",
            "57/57 [==============================] - 0s 6ms/step - loss: 0.0505 - val_loss: 0.0363\n",
            "Epoch 24/50\n",
            "57/57 [==============================] - 0s 7ms/step - loss: 0.0464 - val_loss: 0.0356\n",
            "Epoch 25/50\n",
            "57/57 [==============================] - 0s 6ms/step - loss: 0.0479 - val_loss: 0.0400\n",
            "Epoch 26/50\n",
            "57/57 [==============================] - 0s 6ms/step - loss: 0.0456 - val_loss: 0.0329\n",
            "Epoch 27/50\n",
            "57/57 [==============================] - 0s 6ms/step - loss: 0.0451 - val_loss: 0.0329\n",
            "Epoch 28/50\n",
            "57/57 [==============================] - 0s 6ms/step - loss: 0.0453 - val_loss: 0.0335\n",
            "Epoch 29/50\n",
            "57/57 [==============================] - 0s 6ms/step - loss: 0.0435 - val_loss: 0.0363\n",
            "Epoch 30/50\n",
            "57/57 [==============================] - 0s 6ms/step - loss: 0.0437 - val_loss: 0.0339\n",
            "Epoch 31/50\n",
            "57/57 [==============================] - 0s 6ms/step - loss: 0.0422 - val_loss: 0.0329\n",
            "Epoch 32/50\n",
            "57/57 [==============================] - 0s 6ms/step - loss: 0.0432 - val_loss: 0.0329\n",
            "Epoch 33/50\n",
            "57/57 [==============================] - 0s 6ms/step - loss: 0.0421 - val_loss: 0.0335\n",
            "Epoch 34/50\n",
            "57/57 [==============================] - 0s 6ms/step - loss: 0.0415 - val_loss: 0.0330\n",
            "Epoch 35/50\n",
            "57/57 [==============================] - 0s 6ms/step - loss: 0.0425 - val_loss: 0.0332\n",
            "Epoch 36/50\n",
            "57/57 [==============================] - 0s 6ms/step - loss: 0.0406 - val_loss: 0.0341\n",
            "Epoch 37/50\n",
            "57/57 [==============================] - 0s 6ms/step - loss: 0.0396 - val_loss: 0.0329\n",
            "Epoch 38/50\n",
            "57/57 [==============================] - 0s 6ms/step - loss: 0.0413 - val_loss: 0.0336\n",
            "Epoch 39/50\n",
            "57/57 [==============================] - 0s 6ms/step - loss: 0.0395 - val_loss: 0.0342\n",
            "Epoch 40/50\n",
            "57/57 [==============================] - 0s 6ms/step - loss: 0.0386 - val_loss: 0.0335\n",
            "Epoch 41/50\n",
            "57/57 [==============================] - 0s 6ms/step - loss: 0.0388 - val_loss: 0.0332\n",
            "Epoch 42/50\n",
            "57/57 [==============================] - 0s 6ms/step - loss: 0.0401 - val_loss: 0.0345\n",
            "Epoch 43/50\n",
            "57/57 [==============================] - 0s 6ms/step - loss: 0.0384 - val_loss: 0.0329\n",
            "Epoch 44/50\n",
            "57/57 [==============================] - 0s 6ms/step - loss: 0.0389 - val_loss: 0.0338\n",
            "Epoch 45/50\n",
            "57/57 [==============================] - 0s 6ms/step - loss: 0.0377 - val_loss: 0.0345\n",
            "Epoch 46/50\n",
            "57/57 [==============================] - 0s 6ms/step - loss: 0.0369 - val_loss: 0.0330\n",
            "Epoch 47/50\n",
            "57/57 [==============================] - 0s 6ms/step - loss: 0.0377 - val_loss: 0.0332\n",
            "Epoch 48/50\n",
            "57/57 [==============================] - 0s 6ms/step - loss: 0.0386 - val_loss: 0.0330\n",
            "Epoch 49/50\n",
            "57/57 [==============================] - 0s 6ms/step - loss: 0.0373 - val_loss: 0.0343\n",
            "Epoch 50/50\n",
            "57/57 [==============================] - 0s 7ms/step - loss: 0.0377 - val_loss: 0.0329\n"
          ],
          "name": "stdout"
        }
      ]
    },
    {
      "cell_type": "code",
      "metadata": {
        "colab": {
          "base_uri": "https://localhost:8080/",
          "height": 265
        },
        "id": "pMQGiH38V9jh",
        "outputId": "b2f26127-5c7e-418a-de1c-7fbc25e6c59d"
      },
      "source": [
        "plt.plot(history.history['loss'], label = 'Training loss')\n",
        "plt.plot(history.history['val_loss'], label = 'validation Loss')\n",
        "plt.legend()\n",
        "plt.show()"
      ],
      "execution_count": null,
      "outputs": [
        {
          "output_type": "display_data",
          "data": {
            "image/png": "[encoded data removed]",
            "text/plain": [
              "<Figure size 432x288 with 1 Axes>"
            ]
          },
          "metadata": {
            "tags": [],
            "needs_background": "light"
          }
        }
      ]
    },
    {
      "cell_type": "code",
      "metadata": {
        "id": "yk63DlD3Y7c6"
      },
      "source": [
        "# make a prediction\n",
        "yhat = model.predict(X_test)"
      ],
      "execution_count": null,
      "outputs": []
    },
    {
      "cell_type": "code",
      "metadata": {
        "colab": {
          "base_uri": "https://localhost:8080/"
        },
        "id": "UizYfs18YeLA",
        "outputId": "16e7a976-0601-4ec7-bde6-4d7efd48d35e"
      },
      "source": [
        "y_test.shape"
      ],
      "execution_count": null,
      "outputs": [
        {
          "output_type": "execute_result",
          "data": {
            "text/plain": [
              "(565, 1)"
            ]
          },
          "metadata": {
            "tags": []
          },
          "execution_count": 447
        }
      ]
    },
    {
      "cell_type": "code",
      "metadata": {
        "id": "Pry-2BgAXaWu"
      },
      "source": [
        "forecast_copies = np.repeat(yhat, training_set.shape[1], axis=-1)\n",
        "y_pred_inv = sc.inverse_transform(forecast_copies)[:,10]   "
      ],
      "execution_count": null,
      "outputs": []
    },
    {
      "cell_type": "code",
      "metadata": {
        "id": "m9Kw1kCTWq44"
      },
      "source": [
        "forecast_copies_2 = np.repeat(y_test, training_set.shape[1], axis=-1)\n",
        "y_test_inv = sc.inverse_transform(forecast_copies_2)[:,10]             "
      ],
      "execution_count": null,
      "outputs": []
    },
    {
      "cell_type": "code",
      "metadata": {
        "id": "9uQBW9MIV2XR"
      },
      "source": [
        "from sklearn.metrics import r2_score, mean_squared_error, mean_absolute_error"
      ],
      "execution_count": null,
      "outputs": []
    },
    {
      "cell_type": "code",
      "metadata": {
        "id": "a0BToUrPi0J-"
      },
      "source": [
        "mae = mean_absolute_error(y_test_inv, y_pred_inv)"
      ],
      "execution_count": null,
      "outputs": []
    },
    {
      "cell_type": "code",
      "metadata": {
        "colab": {
          "base_uri": "https://localhost:8080/"
        },
        "id": "FwnaiwCgi_Wp",
        "outputId": "9d7dae2f-947f-4134-d2a6-ac1786d77610"
      },
      "source": [
        "mae"
      ],
      "execution_count": null,
      "outputs": [
        {
          "output_type": "execute_result",
          "data": {
            "text/plain": [
              "50.80602894682623"
            ]
          },
          "metadata": {
            "tags": []
          },
          "execution_count": 510
        }
      ]
    },
    {
      "cell_type": "code",
      "metadata": {
        "colab": {
          "base_uri": "https://localhost:8080/",
          "height": 519
        },
        "id": "BNnasHh9b8U4",
        "outputId": "04e69631-2d24-45ef-d0dd-cccc0a7b1b51"
      },
      "source": [
        "plt.figure(figsize = (18,9))\n",
        "plt.plot(y_pred_inv, label = 'predictions')\n",
        "plt.plot(y_test_inv, label = 'actual')\n",
        "plt.legend()\n",
        "plt.show()"
      ],
      "execution_count": null,
      "outputs": [
        {
          "output_type": "display_data",
          "data": {
            "image/png": "[encoded data removed]",
            "text/plain": [
              "<Figure size 1296x648 with 1 Axes>"
            ]
          },
          "metadata": {
            "tags": [],
            "needs_background": "light"
          }
        }
      ]
    }
  ]
}