{
  "nbformat": 4,
  "nbformat_minor": 0,
  "metadata": {
    "colab": {
      "provenance": []
    },
    "kernelspec": {
      "display_name": "Python 3",
      "name": "python3"
    },
    "language_info": {
      "name": "python"
    }
  },
  "cells": [
    {
      "cell_type": "code",
      "metadata": {
        "id": "2zIXE5jiy9Lk"
      },
      "source": [
        "import pandas as pd \n",
        "import numpy as np\n",
        "import matplotlib.pyplot as plt\n",
        "import seaborn as sns\n",
        "sns.set()"
      ],
      "execution_count": null,
      "outputs": []
    },
    {
      "cell_type": "code",
      "metadata": {
        "id": "PK_xXWS535kL"
      },
      "source": [
        "df_1 = pd.read_csv('/content/drive/MyDrive/FOREX/GU_merged.csv')"
      ],
      "execution_count": null,
      "outputs": []
    },
    {
      "cell_type": "code",
      "metadata": {
        "id": "-neKYVsw3_NE"
      },
      "source": [
        "df_1 = df_1.iloc[:,1:6]"
      ],
      "execution_count": null,
      "outputs": []
    },
    {
      "cell_type": "code",
      "metadata": {
        "id": "JQtdm-Cl4Bs-"
      },
      "source": [
        "df_2 = pd.read_csv('/content/drive/MyDrive/FOREX/GBP_USD_202105.csv')"
      ],
      "execution_count": null,
      "outputs": []
    },
    {
      "cell_type": "code",
      "metadata": {
        "id": "-BSVrfSA4FJt"
      },
      "source": [
        "df_2.drop('Volume', axis = 1, inplace=True)"
      ],
      "execution_count": null,
      "outputs": []
    },
    {
      "cell_type": "code",
      "metadata": {
        "id": "-7EsLL-04HxQ"
      },
      "source": [
        "df_3 = pd.read_csv('/content/drive/MyDrive/FOREX/GBP_USD_202106.csv')"
      ],
      "execution_count": null,
      "outputs": []
    },
    {
      "cell_type": "code",
      "metadata": {
        "id": "CyaDS5Xy4KMC"
      },
      "source": [
        "df_3.drop('Volume', axis = 1, inplace=True)"
      ],
      "execution_count": null,
      "outputs": []
    },
    {
      "cell_type": "code",
      "metadata": {
        "id": "UhnSeOhS4NPo"
      },
      "source": [
        "df_new = pd.concat([df_1,df_2,df_3], axis=0)"
      ],
      "execution_count": null,
      "outputs": []
    },
    {
      "cell_type": "code",
      "metadata": {
        "id": "qSgyS5WT4QJI"
      },
      "source": [
        "df_new.drop_duplicates(inplace=True)"
      ],
      "execution_count": null,
      "outputs": []
    },
    {
      "cell_type": "code",
      "metadata": {
        "id": "sGh6PI0A4Sv4"
      },
      "source": [
        "# resample into H1\n",
        "#  change timestamp to datetime object and set  as index\n",
        "df_new['TimeStamp'] = pd.to_datetime(df_new['TimeStamp'])\n",
        "df_new.set_index('TimeStamp', inplace=True, drop=True)\n",
        "df_new_H1 = df_new.resample('H').agg({'Open':'first', 'High': np.max, 'Low': np.min, 'Close': 'last'})\n",
        "df_new_B = df_new_H1.resample('B').agg({'Open':'first', 'High': np.max, 'Low': np.min, 'Close': 'last'})"
      ],
      "execution_count": null,
      "outputs": []
    },
    {
      "cell_type": "code",
      "metadata": {
        "id": "5bmg4ht14WvI"
      },
      "source": [
        "df_new.reset_index(inplace=True)"
      ],
      "execution_count": null,
      "outputs": []
    },
    {
      "cell_type": "code",
      "metadata": {
        "id": "Im5081kj4jHe"
      },
      "source": [
        "df_new['Close_p4'] = df_new['Close'].shift(-3)\n",
        "df_new['PIPS_H4'] = (df_new['Close_p4']-df_new['Open']) * 10000"
      ],
      "execution_count": null,
      "outputs": []
    },
    {
      "cell_type": "code",
      "metadata": {
        "id": "7PM2y_Td4omA"
      },
      "source": [
        "df_new.dropna(inplace=True)"
      ],
      "execution_count": null,
      "outputs": []
    },
    {
      "cell_type": "code",
      "metadata": {
        "id": "RDGHG_V_4tPt"
      },
      "source": [
        "# to get dir without using loops - 0/0 will return nas\n",
        "df_new['H4_Dir'] = df_new['PIPS_H4'] / abs(df_new['PIPS_H4'])"
      ],
      "execution_count": null,
      "outputs": []
    },
    {
      "cell_type": "code",
      "metadata": {
        "id": "12Ylq_Al_oZq"
      },
      "source": [
        "df_new['H4_Dir'] = df_new['H4_Dir'].fillna(0)"
      ],
      "execution_count": null,
      "outputs": []
    },
    {
      "cell_type": "code",
      "metadata": {
        "id": "0QeY1lG4kHso"
      },
      "source": [],
      "execution_count": null,
      "outputs": []
    },
    {
      "cell_type": "code",
      "metadata": {
        "id": "9PqLDGC34u-9"
      },
      "source": [
        "df_new.reset_index(inplace=True, drop=True)"
      ],
      "execution_count": null,
      "outputs": []
    },
    {
      "cell_type": "code",
      "metadata": {
        "colab": {
          "base_uri": "https://localhost:8080/",
          "height": 204
        },
        "id": "GnCuB16x40bo",
        "outputId": "4e20fb37-b181-4fb0-dddb-e3dd8fe76c25"
      },
      "source": [
        "df_new.head()"
      ],
      "execution_count": null,
      "outputs": [
        {
          "output_type": "execute_result",
          "data": {
            "text/html": [
              "<div>\n",
              "<style scoped>\n",
              "    .dataframe tbody tr th:only-of-type {\n",
              "        vertical-align: middle;\n",
              "    }\n",
              "\n",
              "    .dataframe tbody tr th {\n",
              "        vertical-align: top;\n",
              "    }\n",
              "\n",
              "    .dataframe thead th {\n",
              "        text-align: right;\n",
              "    }\n",
              "</style>\n",
              "<table border=\"1\" class=\"dataframe\">\n",
              "  <thead>\n",
              "    <tr style=\"text-align: right;\">\n",
              "      <th></th>\n",
              "      <th>TimeStamp</th>\n",
              "      <th>Open</th>\n",
              "      <th>High</th>\n",
              "      <th>Low</th>\n",
              "      <th>Close</th>\n",
              "      <th>Close_p4</th>\n",
              "      <th>PIPS_H4</th>\n",
              "      <th>H4_Dir</th>\n",
              "    </tr>\n",
              "  </thead>\n",
              "  <tbody>\n",
              "    <tr>\n",
              "      <th>0</th>\n",
              "      <td>2016-01-03 17:00:00</td>\n",
              "      <td>1.47335</td>\n",
              "      <td>1.47335</td>\n",
              "      <td>1.47329</td>\n",
              "      <td>1.47329</td>\n",
              "      <td>1.47332</td>\n",
              "      <td>-0.3</td>\n",
              "      <td>-1.0</td>\n",
              "    </tr>\n",
              "    <tr>\n",
              "      <th>1</th>\n",
              "      <td>2016-01-03 17:01:00</td>\n",
              "      <td>1.47328</td>\n",
              "      <td>1.47336</td>\n",
              "      <td>1.47326</td>\n",
              "      <td>1.47335</td>\n",
              "      <td>1.47332</td>\n",
              "      <td>0.4</td>\n",
              "      <td>1.0</td>\n",
              "    </tr>\n",
              "    <tr>\n",
              "      <th>2</th>\n",
              "      <td>2016-01-03 17:02:00</td>\n",
              "      <td>1.47335</td>\n",
              "      <td>1.47335</td>\n",
              "      <td>1.47329</td>\n",
              "      <td>1.47329</td>\n",
              "      <td>1.47332</td>\n",
              "      <td>-0.3</td>\n",
              "      <td>-1.0</td>\n",
              "    </tr>\n",
              "    <tr>\n",
              "      <th>3</th>\n",
              "      <td>2016-01-03 17:03:00</td>\n",
              "      <td>1.47330</td>\n",
              "      <td>1.47333</td>\n",
              "      <td>1.47329</td>\n",
              "      <td>1.47332</td>\n",
              "      <td>1.47331</td>\n",
              "      <td>0.1</td>\n",
              "      <td>1.0</td>\n",
              "    </tr>\n",
              "    <tr>\n",
              "      <th>4</th>\n",
              "      <td>2016-01-03 17:04:00</td>\n",
              "      <td>1.47332</td>\n",
              "      <td>1.47334</td>\n",
              "      <td>1.47332</td>\n",
              "      <td>1.47332</td>\n",
              "      <td>1.47331</td>\n",
              "      <td>-0.1</td>\n",
              "      <td>-1.0</td>\n",
              "    </tr>\n",
              "  </tbody>\n",
              "</table>\n",
              "</div>"
            ],
            "text/plain": [
              "            TimeStamp     Open     High  ...  Close_p4  PIPS_H4  H4_Dir\n",
              "0 2016-01-03 17:00:00  1.47335  1.47335  ...   1.47332     -0.3    -1.0\n",
              "1 2016-01-03 17:01:00  1.47328  1.47336  ...   1.47332      0.4     1.0\n",
              "2 2016-01-03 17:02:00  1.47335  1.47335  ...   1.47332     -0.3    -1.0\n",
              "3 2016-01-03 17:03:00  1.47330  1.47333  ...   1.47331      0.1     1.0\n",
              "4 2016-01-03 17:04:00  1.47332  1.47334  ...   1.47331     -0.1    -1.0\n",
              "\n",
              "[5 rows x 8 columns]"
            ]
          },
          "metadata": {
            "tags": []
          },
          "execution_count": 18
        }
      ]
    },
    {
      "cell_type": "code",
      "metadata": {
        "colab": {
          "base_uri": "https://localhost:8080/"
        },
        "id": "C7PCErIzqBYm",
        "outputId": "a0cf1aa5-1a0c-4b2c-b836-5d5c9c8b8a9a"
      },
      "source": [
        "!pip install ta\n"
      ],
      "execution_count": null,
      "outputs": [
        {
          "output_type": "stream",
          "text": [
            "Requirement already satisfied: ta in /usr/local/lib/python3.7/dist-packages (0.7.0)\n",
            "Requirement already satisfied: numpy in /usr/local/lib/python3.7/dist-packages (from ta) (1.19.5)\n",
            "Requirement already satisfied: pandas in /usr/local/lib/python3.7/dist-packages (from ta) (1.1.5)\n",
            "Requirement already satisfied: python-dateutil>=2.7.3 in /usr/local/lib/python3.7/dist-packages (from pandas->ta) (2.8.1)\n",
            "Requirement already satisfied: pytz>=2017.2 in /usr/local/lib/python3.7/dist-packages (from pandas->ta) (2018.9)\n",
            "Requirement already satisfied: six>=1.5 in /usr/local/lib/python3.7/dist-packages (from python-dateutil>=2.7.3->pandas->ta) (1.15.0)\n"
          ],
          "name": "stdout"
        }
      ]
    },
    {
      "cell_type": "code",
      "metadata": {
        "colab": {
          "base_uri": "https://localhost:8080/"
        },
        "id": "PUiSujkMrqPz",
        "outputId": "517416dc-a722-4145-907c-c7df79d5a3b5"
      },
      "source": [
        "!pip install -U git+https://github.com/twopirllc/pandas-ta"
      ],
      "execution_count": null,
      "outputs": [
        {
          "output_type": "stream",
          "text": [
            "Collecting git+https://github.com/twopirllc/pandas-ta\n",
            "  Cloning https://github.com/twopirllc/pandas-ta to /tmp/pip-req-build-m0ajuy43\n",
            "  Running command git clone -q https://github.com/twopirllc/pandas-ta /tmp/pip-req-build-m0ajuy43\n",
            "Requirement already satisfied, skipping upgrade: pandas in /usr/local/lib/python3.7/dist-packages (from pandas-ta==0.3.2b0) (1.1.5)\n",
            "Requirement already satisfied, skipping upgrade: pytz>=2017.2 in /usr/local/lib/python3.7/dist-packages (from pandas->pandas-ta==0.3.2b0) (2018.9)\n",
            "Requirement already satisfied, skipping upgrade: numpy>=1.15.4 in /usr/local/lib/python3.7/dist-packages (from pandas->pandas-ta==0.3.2b0) (1.19.5)\n",
            "Requirement already satisfied, skipping upgrade: python-dateutil>=2.7.3 in /usr/local/lib/python3.7/dist-packages (from pandas->pandas-ta==0.3.2b0) (2.8.1)\n",
            "Requirement already satisfied, skipping upgrade: six>=1.5 in /usr/local/lib/python3.7/dist-packages (from python-dateutil>=2.7.3->pandas->pandas-ta==0.3.2b0) (1.15.0)\n",
            "Building wheels for collected packages: pandas-ta\n",
            "  Building wheel for pandas-ta (setup.py) ... \u001b[?25l\u001b[?25hdone\n",
            "  Created wheel for pandas-ta: filename=pandas_ta-0.3.2b0-cp37-none-any.whl size=211144 sha256=1637e7114c5911d103beb6d29ea78830132466d654eda897de252de79e0d87b4\n",
            "  Stored in directory: /tmp/pip-ephem-wheel-cache-fbj5pd9w/wheels/64/67/96/15e918c3b53b4a323b5bd037c7f08be5ef6908141c50f07c76\n",
            "Successfully built pandas-ta\n",
            "Installing collected packages: pandas-ta\n",
            "  Found existing installation: pandas-ta 0.3.2b0\n",
            "    Uninstalling pandas-ta-0.3.2b0:\n",
            "      Successfully uninstalled pandas-ta-0.3.2b0\n",
            "Successfully installed pandas-ta-0.3.2b0\n"
          ],
          "name": "stdout"
        }
      ]
    },
    {
      "cell_type": "code",
      "metadata": {
        "colab": {
          "base_uri": "https://localhost:8080/"
        },
        "id": "AtQBv7ueZ6Yo",
        "outputId": "0c20df0b-0ecb-4f83-8264-76054401efd9"
      },
      "source": [
        "\n",
        "from ta.trend import PSARIndicator \n",
        "from ta.momentum import RSIIndicator\n",
        "from ta.momentum import StochasticOscillator\n",
        "from ta.momentum import WilliamsRIndicator\n",
        "from ta.volatility import BollingerBands\n",
        "from ta.trend import ADXIndicator\n",
        "from ta.volatility import AverageTrueRange\n",
        "from ta.trend import IchimokuIndicator\n",
        "from ta.trend import MACD\n",
        "#import pandas_ta\n",
        "\n",
        "#Heikin-Ashi - renames cols\n",
        "\n",
        "'''\n",
        "df_new.ta.ha(append=True)\n",
        "df_new.ta.cdl_doji(append=True)\n",
        "df_new.ta.cdl_inside(append=True)\n",
        "'''\n",
        "\n",
        "#PSAR\n",
        "psar = PSARIndicator(df_new['High'], df_new['Low'], df_new['Close'])\n",
        "df_new['PSAR'] = psar.psar()\n",
        "#PSAR indicators\n",
        "df_new['PSAR_d_i'] =psar.psar_down_indicator()\n",
        "df_new['PSAR_u_i'] =psar.psar_up_indicator()\n",
        "#RSI 5 & 14\n",
        "rsi_5 = RSIIndicator(df_new['Close'], 5)\n",
        "rsi_14 = RSIIndicator(df_new['Close'], 14)\n",
        "\n",
        "df_new['RSI_5'] = rsi_5.rsi()\n",
        "df_new['RSI_14'] = rsi_14.rsi()\n",
        "\n",
        "# stochastic oscillator\n",
        "SO = StochasticOscillator(df_new['High'], df_new['Low'], df_new['Close'])\n",
        "df_new['SO'] = SO.stoch()\n",
        "df_new['SO_signal'] = SO.stoch_signal()\n",
        "\n",
        "#william indicator\n",
        "WI = WilliamsRIndicator(df_new['High'], df_new['Low'], df_new['Close'])\n",
        "df_new['WI'] = WI.williams_r()\n",
        "\n",
        "# Bollinger\n",
        "Bol =  BollingerBands(df_new['Close'])\n",
        "df_new['h_Bol'] = Bol.bollinger_hband()\n",
        "df_new['m_Bol'] = Bol.bollinger_mavg()\n",
        "df_new['l_Bol'] = Bol.bollinger_lband()\n",
        "\n",
        "# check ta adx vs calculated\n",
        "adx_ta = ADXIndicator(df_new['High'], df_new['Low'], df_new['Close'], 10)\n",
        "df_new['ADX'] = adx_ta.adx()\n",
        "\n",
        "# DI pos & neg\n",
        "df_new['DI_pos'] = adx_ta.adx_pos() \n",
        "df_new['DI_neg'] = adx_ta.adx_neg() \n",
        " \n",
        "\n",
        "# check av true range ta vs calculated\n",
        "atr = AverageTrueRange(df_new['High'], df_new['Low'], df_new['Close'])\n",
        "df_new['ATR'] = atr.average_true_range() \n",
        "\n",
        "# sample standard deviation (n = 20), .std method defaults to n-1 in denominator\n",
        "df_new['SSD'] = df_new['Close'].rolling(20).std()\n",
        "\n",
        "# price moving averages\n",
        "\n",
        "df_new['avg_price_5'] = df_new['Close'].rolling(window=5).mean()\n",
        "df_new['avg_price_10'] = df_new['Close'].rolling(window=10).mean()\n",
        "\n",
        "#Ichimoko\n",
        "Ichimoku = IchimokuIndicator(df_new['High'], df_new['Low'],7,22,44) \n",
        "# Senkou Span A\n",
        "df_new['Senkou_Span_A'] = Ichimoku.ichimoku_a()\n",
        "# Senkou Span B\n",
        "df_new['Senkou_Span_B'] = Ichimoku.ichimoku_b()\n",
        "# Kijun sen\n",
        "df_new['Kijun_sen'] = Ichimoku.ichimoku_base_line() \n",
        "# Tenkan sen\n",
        "df_new['Tenkan-sen'] = Ichimoku.ichimoku_conversion_line() \n",
        "\n",
        "# MACD indicators\n",
        "# MACD - defaults periods 26 & 12 and 9 for signal\n",
        "macd = MACD(df_new['Close'])\n",
        "df_new['MACD'] = macd.macd()\n",
        "#DIF\n",
        "df_new['DIF'] = macd.macd_diff() \n",
        "#DEA(signal)\n",
        "df_new['DEA'] = macd.macd_signal()\n",
        "\n"
      ],
      "execution_count": null,
      "outputs": [
        {
          "output_type": "stream",
          "text": [
            "/usr/local/lib/python3.7/dist-packages/ta/trend.py:768: RuntimeWarning: invalid value encountered in double_scalars\n",
            "  dip[i] = 100 * (self._dip[i] / self._trs[i])\n",
            "/usr/local/lib/python3.7/dist-packages/ta/trend.py:772: RuntimeWarning: invalid value encountered in double_scalars\n",
            "  din[i] = 100 * (self._din[i] / self._trs[i])\n"
          ],
          "name": "stderr"
        }
      ]
    },
    {
      "cell_type": "code",
      "metadata": {
        "colab": {
          "base_uri": "https://localhost:8080/"
        },
        "id": "mtX2BmJD-1MA",
        "outputId": "79ff77df-1f2a-452e-c310-eaee53e33793"
      },
      "source": [
        "df_new.isnull().sum()"
      ],
      "execution_count": null,
      "outputs": [
        {
          "output_type": "execute_result",
          "data": {
            "text/plain": [
              "TimeStamp         0\n",
              "Open              0\n",
              "High              0\n",
              "Low               0\n",
              "Close             0\n",
              "Close_p4          0\n",
              "PIPS_H4           0\n",
              "H4_Dir            0\n",
              "PSAR              0\n",
              "PSAR_d_i          0\n",
              "PSAR_u_i          0\n",
              "RSI_5             4\n",
              "RSI_14           13\n",
              "SO               17\n",
              "SO_signal        25\n",
              "WI               17\n",
              "h_Bol            19\n",
              "m_Bol            19\n",
              "l_Bol            19\n",
              "ADX               0\n",
              "DI_pos            0\n",
              "DI_neg            0\n",
              "ATR               0\n",
              "SSD              19\n",
              "avg_price_5       4\n",
              "avg_price_10      9\n",
              "Senkou_Span_A    21\n",
              "Senkou_Span_B     0\n",
              "Kijun_sen        21\n",
              "Tenkan-sen        6\n",
              "MACD             25\n",
              "DIF              33\n",
              "DEA              33\n",
              "dtype: int64"
            ]
          },
          "metadata": {
            "tags": []
          },
          "execution_count": 22
        }
      ]
    },
    {
      "cell_type": "code",
      "metadata": {
        "id": "j272vnyPfxUX"
      },
      "source": [
        "df_new.dropna(inplace=True)"
      ],
      "execution_count": null,
      "outputs": []
    },
    {
      "cell_type": "code",
      "metadata": {
        "id": "MTGoF2H--Nk_"
      },
      "source": [
        "df_new['H4_Dir'] = df_new['H4_Dir'].astype('int')"
      ],
      "execution_count": null,
      "outputs": []
    },
    {
      "cell_type": "code",
      "metadata": {
        "colab": {
          "base_uri": "https://localhost:8080/",
          "height": 326
        },
        "id": "fIAVLfh1Btif",
        "outputId": "945abc71-6b6a-4765-e9de-f521f755f1ca"
      },
      "source": [
        "df_new.tail()"
      ],
      "execution_count": null,
      "outputs": [
        {
          "output_type": "execute_result",
          "data": {
            "text/html": [
              "<div>\n",
              "<style scoped>\n",
              "    .dataframe tbody tr th:only-of-type {\n",
              "        vertical-align: middle;\n",
              "    }\n",
              "\n",
              "    .dataframe tbody tr th {\n",
              "        vertical-align: top;\n",
              "    }\n",
              "\n",
              "    .dataframe thead th {\n",
              "        text-align: right;\n",
              "    }\n",
              "</style>\n",
              "<table border=\"1\" class=\"dataframe\">\n",
              "  <thead>\n",
              "    <tr style=\"text-align: right;\">\n",
              "      <th></th>\n",
              "      <th>TimeStamp</th>\n",
              "      <th>Open</th>\n",
              "      <th>High</th>\n",
              "      <th>Low</th>\n",
              "      <th>Close</th>\n",
              "      <th>Close_p4</th>\n",
              "      <th>PIPS_H4</th>\n",
              "      <th>H4_Dir</th>\n",
              "      <th>PSAR</th>\n",
              "      <th>PSAR_d_i</th>\n",
              "      <th>PSAR_u_i</th>\n",
              "      <th>RSI_5</th>\n",
              "      <th>RSI_14</th>\n",
              "      <th>SO</th>\n",
              "      <th>SO_signal</th>\n",
              "      <th>WI</th>\n",
              "      <th>h_Bol</th>\n",
              "      <th>m_Bol</th>\n",
              "      <th>l_Bol</th>\n",
              "      <th>ADX</th>\n",
              "      <th>DI_pos</th>\n",
              "      <th>DI_neg</th>\n",
              "      <th>ATR</th>\n",
              "      <th>SSD</th>\n",
              "      <th>avg_price_5</th>\n",
              "      <th>avg_price_10</th>\n",
              "      <th>Senkou_Span_A</th>\n",
              "      <th>Senkou_Span_B</th>\n",
              "      <th>Kijun_sen</th>\n",
              "      <th>Tenkan-sen</th>\n",
              "      <th>MACD</th>\n",
              "      <th>DIF</th>\n",
              "      <th>DEA</th>\n",
              "    </tr>\n",
              "  </thead>\n",
              "  <tbody>\n",
              "    <tr>\n",
              "      <th>1697043</th>\n",
              "      <td>2021-06-11 16:51:00</td>\n",
              "      <td>1.41127</td>\n",
              "      <td>1.41127</td>\n",
              "      <td>1.41124</td>\n",
              "      <td>1.41125</td>\n",
              "      <td>1.41131</td>\n",
              "      <td>0.4</td>\n",
              "      <td>1</td>\n",
              "      <td>1.411058</td>\n",
              "      <td>0.0</td>\n",
              "      <td>0.0</td>\n",
              "      <td>51.173711</td>\n",
              "      <td>49.812394</td>\n",
              "      <td>35.384615</td>\n",
              "      <td>42.051282</td>\n",
              "      <td>-64.615385</td>\n",
              "      <td>1.411405</td>\n",
              "      <td>1.411214</td>\n",
              "      <td>1.411023</td>\n",
              "      <td>48.102893</td>\n",
              "      <td>44.384422</td>\n",
              "      <td>23.175040</td>\n",
              "      <td>0.000092</td>\n",
              "      <td>0.000098</td>\n",
              "      <td>1.411290</td>\n",
              "      <td>1.411207</td>\n",
              "      <td>1.411345</td>\n",
              "      <td>1.411410</td>\n",
              "      <td>1.411345</td>\n",
              "      <td>1.411345</td>\n",
              "      <td>-0.000016</td>\n",
              "      <td>0.000022</td>\n",
              "      <td>-0.000037</td>\n",
              "    </tr>\n",
              "    <tr>\n",
              "      <th>1697044</th>\n",
              "      <td>2021-06-11 16:52:00</td>\n",
              "      <td>1.41125</td>\n",
              "      <td>1.41127</td>\n",
              "      <td>1.41123</td>\n",
              "      <td>1.41124</td>\n",
              "      <td>1.41124</td>\n",
              "      <td>-0.1</td>\n",
              "      <td>-1</td>\n",
              "      <td>1.411070</td>\n",
              "      <td>0.0</td>\n",
              "      <td>0.0</td>\n",
              "      <td>49.650187</td>\n",
              "      <td>49.142842</td>\n",
              "      <td>33.846154</td>\n",
              "      <td>35.897436</td>\n",
              "      <td>-66.153846</td>\n",
              "      <td>1.411397</td>\n",
              "      <td>1.411210</td>\n",
              "      <td>1.411024</td>\n",
              "      <td>46.220045</td>\n",
              "      <td>42.501559</td>\n",
              "      <td>23.252458</td>\n",
              "      <td>0.000088</td>\n",
              "      <td>0.000096</td>\n",
              "      <td>1.411318</td>\n",
              "      <td>1.411212</td>\n",
              "      <td>1.411345</td>\n",
              "      <td>1.411400</td>\n",
              "      <td>1.411345</td>\n",
              "      <td>1.411345</td>\n",
              "      <td>-0.000014</td>\n",
              "      <td>0.000018</td>\n",
              "      <td>-0.000032</td>\n",
              "    </tr>\n",
              "    <tr>\n",
              "      <th>1697045</th>\n",
              "      <td>2021-06-11 16:53:00</td>\n",
              "      <td>1.41125</td>\n",
              "      <td>1.41128</td>\n",
              "      <td>1.41124</td>\n",
              "      <td>1.41126</td>\n",
              "      <td>1.41087</td>\n",
              "      <td>-3.8</td>\n",
              "      <td>-1</td>\n",
              "      <td>1.411082</td>\n",
              "      <td>0.0</td>\n",
              "      <td>0.0</td>\n",
              "      <td>53.138075</td>\n",
              "      <td>50.573773</td>\n",
              "      <td>36.923077</td>\n",
              "      <td>35.384615</td>\n",
              "      <td>-63.076923</td>\n",
              "      <td>1.411397</td>\n",
              "      <td>1.411210</td>\n",
              "      <td>1.411024</td>\n",
              "      <td>44.649998</td>\n",
              "      <td>41.713752</td>\n",
              "      <td>22.205783</td>\n",
              "      <td>0.000085</td>\n",
              "      <td>0.000096</td>\n",
              "      <td>1.411276</td>\n",
              "      <td>1.411220</td>\n",
              "      <td>1.411360</td>\n",
              "      <td>1.411400</td>\n",
              "      <td>1.411345</td>\n",
              "      <td>1.411375</td>\n",
              "      <td>-0.000011</td>\n",
              "      <td>0.000017</td>\n",
              "      <td>-0.000028</td>\n",
              "    </tr>\n",
              "    <tr>\n",
              "      <th>1697046</th>\n",
              "      <td>2021-06-11 16:54:00</td>\n",
              "      <td>1.41125</td>\n",
              "      <td>1.41133</td>\n",
              "      <td>1.41124</td>\n",
              "      <td>1.41131</td>\n",
              "      <td>1.41073</td>\n",
              "      <td>-5.2</td>\n",
              "      <td>-1</td>\n",
              "      <td>1.411094</td>\n",
              "      <td>0.0</td>\n",
              "      <td>0.0</td>\n",
              "      <td>61.477389</td>\n",
              "      <td>54.054235</td>\n",
              "      <td>44.615385</td>\n",
              "      <td>38.461538</td>\n",
              "      <td>-55.384615</td>\n",
              "      <td>1.411402</td>\n",
              "      <td>1.411212</td>\n",
              "      <td>1.411023</td>\n",
              "      <td>43.855987</td>\n",
              "      <td>43.113863</td>\n",
              "      <td>19.959648</td>\n",
              "      <td>0.000085</td>\n",
              "      <td>0.000097</td>\n",
              "      <td>1.411266</td>\n",
              "      <td>1.411239</td>\n",
              "      <td>1.411365</td>\n",
              "      <td>1.411360</td>\n",
              "      <td>1.411345</td>\n",
              "      <td>1.411385</td>\n",
              "      <td>-0.000005</td>\n",
              "      <td>0.000019</td>\n",
              "      <td>-0.000023</td>\n",
              "    </tr>\n",
              "    <tr>\n",
              "      <th>1697047</th>\n",
              "      <td>2021-06-11 16:55:00</td>\n",
              "      <td>1.41129</td>\n",
              "      <td>1.41135</td>\n",
              "      <td>1.41124</td>\n",
              "      <td>1.41124</td>\n",
              "      <td>1.41126</td>\n",
              "      <td>-0.3</td>\n",
              "      <td>-1</td>\n",
              "      <td>1.411106</td>\n",
              "      <td>0.0</td>\n",
              "      <td>0.0</td>\n",
              "      <td>46.878444</td>\n",
              "      <td>48.866224</td>\n",
              "      <td>33.846154</td>\n",
              "      <td>38.461538</td>\n",
              "      <td>-66.153846</td>\n",
              "      <td>1.411399</td>\n",
              "      <td>1.411211</td>\n",
              "      <td>1.411023</td>\n",
              "      <td>43.382444</td>\n",
              "      <td>40.102693</td>\n",
              "      <td>17.549020</td>\n",
              "      <td>0.000087</td>\n",
              "      <td>0.000097</td>\n",
              "      <td>1.411260</td>\n",
              "      <td>1.411256</td>\n",
              "      <td>1.411353</td>\n",
              "      <td>1.411345</td>\n",
              "      <td>1.411345</td>\n",
              "      <td>1.411360</td>\n",
              "      <td>-0.000005</td>\n",
              "      <td>0.000015</td>\n",
              "      <td>-0.000020</td>\n",
              "    </tr>\n",
              "  </tbody>\n",
              "</table>\n",
              "</div>"
            ],
            "text/plain": [
              "                  TimeStamp     Open     High  ...      MACD       DIF       DEA\n",
              "1697043 2021-06-11 16:51:00  1.41127  1.41127  ... -0.000016  0.000022 -0.000037\n",
              "1697044 2021-06-11 16:52:00  1.41125  1.41127  ... -0.000014  0.000018 -0.000032\n",
              "1697045 2021-06-11 16:53:00  1.41125  1.41128  ... -0.000011  0.000017 -0.000028\n",
              "1697046 2021-06-11 16:54:00  1.41125  1.41133  ... -0.000005  0.000019 -0.000023\n",
              "1697047 2021-06-11 16:55:00  1.41129  1.41135  ... -0.000005  0.000015 -0.000020\n",
              "\n",
              "[5 rows x 33 columns]"
            ]
          },
          "metadata": {
            "tags": []
          },
          "execution_count": 25
        }
      ]
    },
    {
      "cell_type": "code",
      "metadata": {
        "id": "eRavJC5dDxAL"
      },
      "source": [
        "#take 10% of data for faster training\n",
        "training_set = df_new.iloc[int(-0.1*len(df_new)):,]"
      ],
      "execution_count": null,
      "outputs": []
    },
    {
      "cell_type": "code",
      "metadata": {
        "colab": {
          "base_uri": "https://localhost:8080/",
          "height": 326
        },
        "id": "2CLTBm6QD7eS",
        "outputId": "e52f81d7-715c-4b04-91e6-a248dc68d46f"
      },
      "source": [
        "training_set.head()"
      ],
      "execution_count": null,
      "outputs": [
        {
          "output_type": "execute_result",
          "data": {
            "text/html": [
              "<div>\n",
              "<style scoped>\n",
              "    .dataframe tbody tr th:only-of-type {\n",
              "        vertical-align: middle;\n",
              "    }\n",
              "\n",
              "    .dataframe tbody tr th {\n",
              "        vertical-align: top;\n",
              "    }\n",
              "\n",
              "    .dataframe thead th {\n",
              "        text-align: right;\n",
              "    }\n",
              "</style>\n",
              "<table border=\"1\" class=\"dataframe\">\n",
              "  <thead>\n",
              "    <tr style=\"text-align: right;\">\n",
              "      <th></th>\n",
              "      <th>TimeStamp</th>\n",
              "      <th>Open</th>\n",
              "      <th>High</th>\n",
              "      <th>Low</th>\n",
              "      <th>Close</th>\n",
              "      <th>Close_p4</th>\n",
              "      <th>PIPS_H4</th>\n",
              "      <th>H4_Dir</th>\n",
              "      <th>PSAR</th>\n",
              "      <th>PSAR_d_i</th>\n",
              "      <th>PSAR_u_i</th>\n",
              "      <th>RSI_5</th>\n",
              "      <th>RSI_14</th>\n",
              "      <th>SO</th>\n",
              "      <th>SO_signal</th>\n",
              "      <th>WI</th>\n",
              "      <th>h_Bol</th>\n",
              "      <th>m_Bol</th>\n",
              "      <th>l_Bol</th>\n",
              "      <th>ADX</th>\n",
              "      <th>DI_pos</th>\n",
              "      <th>DI_neg</th>\n",
              "      <th>ATR</th>\n",
              "      <th>SSD</th>\n",
              "      <th>avg_price_5</th>\n",
              "      <th>avg_price_10</th>\n",
              "      <th>Senkou_Span_A</th>\n",
              "      <th>Senkou_Span_B</th>\n",
              "      <th>Kijun_sen</th>\n",
              "      <th>Tenkan-sen</th>\n",
              "      <th>MACD</th>\n",
              "      <th>DIF</th>\n",
              "      <th>DEA</th>\n",
              "    </tr>\n",
              "  </thead>\n",
              "  <tbody>\n",
              "    <tr>\n",
              "      <th>1527341</th>\n",
              "      <td>2020-12-27 22:31:00</td>\n",
              "      <td>1.35651</td>\n",
              "      <td>1.35652</td>\n",
              "      <td>1.35642</td>\n",
              "      <td>1.35650</td>\n",
              "      <td>1.35659</td>\n",
              "      <td>0.8</td>\n",
              "      <td>1</td>\n",
              "      <td>1.355867</td>\n",
              "      <td>0.0</td>\n",
              "      <td>0.0</td>\n",
              "      <td>80.905291</td>\n",
              "      <td>63.033130</td>\n",
              "      <td>90.361446</td>\n",
              "      <td>91.967871</td>\n",
              "      <td>-9.638554</td>\n",
              "      <td>1.356581</td>\n",
              "      <td>1.356182</td>\n",
              "      <td>1.355783</td>\n",
              "      <td>26.713761</td>\n",
              "      <td>35.359968</td>\n",
              "      <td>16.918881</td>\n",
              "      <td>0.000160</td>\n",
              "      <td>0.000204</td>\n",
              "      <td>1.356352</td>\n",
              "      <td>1.356153</td>\n",
              "      <td>1.356212</td>\n",
              "      <td>1.35615</td>\n",
              "      <td>1.356165</td>\n",
              "      <td>1.356260</td>\n",
              "      <td>0.000063</td>\n",
              "      <td>0.000045</td>\n",
              "      <td>0.000018</td>\n",
              "    </tr>\n",
              "    <tr>\n",
              "      <th>1527342</th>\n",
              "      <td>2020-12-27 22:32:00</td>\n",
              "      <td>1.35651</td>\n",
              "      <td>1.35656</td>\n",
              "      <td>1.35641</td>\n",
              "      <td>1.35652</td>\n",
              "      <td>1.35679</td>\n",
              "      <td>2.8</td>\n",
              "      <td>1</td>\n",
              "      <td>1.355910</td>\n",
              "      <td>0.0</td>\n",
              "      <td>0.0</td>\n",
              "      <td>81.940275</td>\n",
              "      <td>63.632792</td>\n",
              "      <td>92.771084</td>\n",
              "      <td>91.566265</td>\n",
              "      <td>-7.228916</td>\n",
              "      <td>1.356618</td>\n",
              "      <td>1.356194</td>\n",
              "      <td>1.355771</td>\n",
              "      <td>27.896901</td>\n",
              "      <td>34.538627</td>\n",
              "      <td>15.320389</td>\n",
              "      <td>0.000159</td>\n",
              "      <td>0.000217</td>\n",
              "      <td>1.356448</td>\n",
              "      <td>1.356225</td>\n",
              "      <td>1.356220</td>\n",
              "      <td>1.35615</td>\n",
              "      <td>1.356165</td>\n",
              "      <td>1.356275</td>\n",
              "      <td>0.000079</td>\n",
              "      <td>0.000049</td>\n",
              "      <td>0.000030</td>\n",
              "    </tr>\n",
              "    <tr>\n",
              "      <th>1527343</th>\n",
              "      <td>2020-12-27 22:33:00</td>\n",
              "      <td>1.35652</td>\n",
              "      <td>1.35665</td>\n",
              "      <td>1.35648</td>\n",
              "      <td>1.35664</td>\n",
              "      <td>1.35678</td>\n",
              "      <td>2.6</td>\n",
              "      <td>1</td>\n",
              "      <td>1.355950</td>\n",
              "      <td>0.0</td>\n",
              "      <td>0.0</td>\n",
              "      <td>87.159993</td>\n",
              "      <td>67.083034</td>\n",
              "      <td>98.888889</td>\n",
              "      <td>94.007140</td>\n",
              "      <td>-1.111111</td>\n",
              "      <td>1.356679</td>\n",
              "      <td>1.356213</td>\n",
              "      <td>1.355748</td>\n",
              "      <td>29.651005</td>\n",
              "      <td>36.495271</td>\n",
              "      <td>13.691455</td>\n",
              "      <td>0.000160</td>\n",
              "      <td>0.000239</td>\n",
              "      <td>1.356540</td>\n",
              "      <td>1.356294</td>\n",
              "      <td>1.356255</td>\n",
              "      <td>1.35615</td>\n",
              "      <td>1.356200</td>\n",
              "      <td>1.356310</td>\n",
              "      <td>0.000101</td>\n",
              "      <td>0.000057</td>\n",
              "      <td>0.000044</td>\n",
              "    </tr>\n",
              "    <tr>\n",
              "      <th>1527344</th>\n",
              "      <td>2020-12-27 22:34:00</td>\n",
              "      <td>1.35664</td>\n",
              "      <td>1.35665</td>\n",
              "      <td>1.35658</td>\n",
              "      <td>1.35659</td>\n",
              "      <td>1.35665</td>\n",
              "      <td>0.1</td>\n",
              "      <td>1</td>\n",
              "      <td>1.356006</td>\n",
              "      <td>0.0</td>\n",
              "      <td>0.0</td>\n",
              "      <td>75.756119</td>\n",
              "      <td>64.343857</td>\n",
              "      <td>93.333333</td>\n",
              "      <td>94.997769</td>\n",
              "      <td>-6.666667</td>\n",
              "      <td>1.356712</td>\n",
              "      <td>1.356223</td>\n",
              "      <td>1.355735</td>\n",
              "      <td>31.229699</td>\n",
              "      <td>34.802304</td>\n",
              "      <td>13.056327</td>\n",
              "      <td>0.000154</td>\n",
              "      <td>0.000251</td>\n",
              "      <td>1.356552</td>\n",
              "      <td>1.356358</td>\n",
              "      <td>1.356270</td>\n",
              "      <td>1.35615</td>\n",
              "      <td>1.356200</td>\n",
              "      <td>1.356340</td>\n",
              "      <td>0.000113</td>\n",
              "      <td>0.000055</td>\n",
              "      <td>0.000058</td>\n",
              "    </tr>\n",
              "    <tr>\n",
              "      <th>1527345</th>\n",
              "      <td>2020-12-27 22:35:00</td>\n",
              "      <td>1.35658</td>\n",
              "      <td>1.35686</td>\n",
              "      <td>1.35657</td>\n",
              "      <td>1.35679</td>\n",
              "      <td>1.35676</td>\n",
              "      <td>1.8</td>\n",
              "      <td>1</td>\n",
              "      <td>1.356058</td>\n",
              "      <td>0.0</td>\n",
              "      <td>0.0</td>\n",
              "      <td>85.343974</td>\n",
              "      <td>69.677428</td>\n",
              "      <td>93.693694</td>\n",
              "      <td>95.305305</td>\n",
              "      <td>-6.306306</td>\n",
              "      <td>1.356797</td>\n",
              "      <td>1.356249</td>\n",
              "      <td>1.355702</td>\n",
              "      <td>33.982909</td>\n",
              "      <td>41.420466</td>\n",
              "      <td>10.758920</td>\n",
              "      <td>0.000163</td>\n",
              "      <td>0.000281</td>\n",
              "      <td>1.356608</td>\n",
              "      <td>1.356434</td>\n",
              "      <td>1.356400</td>\n",
              "      <td>1.35617</td>\n",
              "      <td>1.356305</td>\n",
              "      <td>1.356495</td>\n",
              "      <td>0.000137</td>\n",
              "      <td>0.000063</td>\n",
              "      <td>0.000074</td>\n",
              "    </tr>\n",
              "  </tbody>\n",
              "</table>\n",
              "</div>"
            ],
            "text/plain": [
              "                  TimeStamp     Open     High  ...      MACD       DIF       DEA\n",
              "1527341 2020-12-27 22:31:00  1.35651  1.35652  ...  0.000063  0.000045  0.000018\n",
              "1527342 2020-12-27 22:32:00  1.35651  1.35656  ...  0.000079  0.000049  0.000030\n",
              "1527343 2020-12-27 22:33:00  1.35652  1.35665  ...  0.000101  0.000057  0.000044\n",
              "1527344 2020-12-27 22:34:00  1.35664  1.35665  ...  0.000113  0.000055  0.000058\n",
              "1527345 2020-12-27 22:35:00  1.35658  1.35686  ...  0.000137  0.000063  0.000074\n",
              "\n",
              "[5 rows x 33 columns]"
            ]
          },
          "metadata": {
            "tags": []
          },
          "execution_count": 27
        }
      ]
    },
    {
      "cell_type": "code",
      "metadata": {
        "id": "2bjKk_H9NARA"
      },
      "source": [
        "training_set = training_set[['Open','High','Low','Close','ADX','avg_price_10','MACD','DIF','ATR','DEA','SSD','Senkou_Span_A','Senkou_Span_B','Kijun_sen','Tenkan-sen','H4_Dir']]"
      ],
      "execution_count": null,
      "outputs": []
    },
    {
      "cell_type": "code",
      "metadata": {
        "id": "xi5yZUwq7CU0"
      },
      "source": [
        "train_X =training_set.iloc[:,0:15]\n",
        "train_y = training_set.iloc[:,15]\n",
        "from sklearn.preprocessing import MinMaxScaler\n",
        "sc = MinMaxScaler(feature_range=(0,1))\n",
        "sc = sc.fit(train_X)\n",
        "X_sc = sc.fit_transform(train_X)"
      ],
      "execution_count": null,
      "outputs": []
    },
    {
      "cell_type": "code",
      "metadata": {
        "id": "mh2fQEbXDi41"
      },
      "source": [
        "from sklearn.neural_network import MLPClassifier\n",
        "from sklearn.linear_model import LogisticRegression\n",
        "from sklearn.svm import SVC\n",
        "from sklearn.naive_bayes import MultinomialNB\n",
        "from sklearn.naive_bayes import CategoricalNB\n",
        "from sklearn.tree import DecisionTreeClassifier\n",
        "from sklearn.neighbors import KNeighborsClassifier\n",
        "from sklearn.ensemble import RandomForestClassifier\n",
        "from sklearn.ensemble import AdaBoostClassifier\n",
        "from sklearn.ensemble import BaggingClassifier\n",
        "from sklearn.ensemble import ExtraTreesClassifier\n",
        "from sklearn.metrics import accuracy_score\n",
        "from sklearn.metrics import f1_score, classification_report\n",
        "from sklearn.metrics import f1_score, classification_report\n",
        "from sklearn.model_selection import train_test_split"
      ],
      "execution_count": null,
      "outputs": []
    },
    {
      "cell_type": "code",
      "metadata": {
        "id": "-V3ghJ6qHki0"
      },
      "source": [
        "# convert list to np array\n",
        "trainY = np.array(train_y)"
      ],
      "execution_count": null,
      "outputs": []
    },
    {
      "cell_type": "code",
      "metadata": {
        "id": "PrYTwxvDFR36"
      },
      "source": [
        "#create model instances\n",
        "svc = SVC(kernel='sigmoid', gamma=1.0)\n",
        "knc = KNeighborsClassifier(n_neighbors=49)\n",
        "#mnb & cnb not working with -ve target values\n",
        "mnb = MultinomialNB(alpha=0.2)\n",
        "cnb = CategoricalNB()\n",
        "dtc = DecisionTreeClassifier(min_samples_split=7, random_state=111)\n",
        "lrc = LogisticRegression(solver='liblinear', penalty='l1')\n",
        "rfc = RandomForestClassifier(n_estimators=31, random_state=111)\n",
        "abc = AdaBoostClassifier(n_estimators=62, random_state=111)\n",
        "bc = BaggingClassifier(n_estimators=9, random_state=111)\n",
        "etc = ExtraTreesClassifier(n_estimators=9, random_state=111)\n",
        "dnn = MLPClassifier(solver='sgd', alpha=1e-5, learning_rate = 'adaptive', activation = 'logistic')"
      ],
      "execution_count": null,
      "outputs": []
    },
    {
      "cell_type": "code",
      "metadata": {
        "id": "npMk8qRaFvd0"
      },
      "source": [
        "X_train, X_test, y_train, y_test = train_test_split(X_sc, trainY, test_size=0.2)"
      ],
      "execution_count": null,
      "outputs": []
    },
    {
      "cell_type": "code",
      "metadata": {
        "id": "tpPopA4VF-fw"
      },
      "source": [],
      "execution_count": null,
      "outputs": []
    },
    {
      "cell_type": "code",
      "metadata": {
        "id": "RdPSzZomkEqg"
      },
      "source": [
        "# create variables with classifiers instances\n",
        "clfs = {'SVC' : svc,'KN' : knc,'DT': dtc, 'LR': lrc, 'RF': rfc, 'AdaBoost': abc, 'BgC': bc, 'ETC': etc, 'DNN':dnn}"
      ],
      "execution_count": null,
      "outputs": []
    },
    {
      "cell_type": "code",
      "metadata": {
        "id": "a3GUHjyklZG1"
      },
      "source": [
        "def train_classifier(clf, feature_train, labels_train):    \n",
        "    clf.fit(feature_train, labels_train)"
      ],
      "execution_count": null,
      "outputs": []
    },
    {
      "cell_type": "code",
      "metadata": {
        "id": "jg8v4M0JwKw9"
      },
      "source": [
        "# function to predict using classifiers\n",
        "def predict_labels(clf, features):\n",
        "    return (clf.predict(features))"
      ],
      "execution_count": null,
      "outputs": []
    },
    {
      "cell_type": "code",
      "metadata": {
        "id": "KzdvDkARj6UN",
        "colab": {
          "base_uri": "https://localhost:8080/"
        },
        "outputId": "5ceb30e3-953a-4512-ff2b-2262ed30e032"
      },
      "source": [
        "pred_scores = []\n",
        "for k,v in clfs.items():\n",
        "    train_classifier(v, X_train, y_train)\n",
        "    pred = predict_labels(v,X_test)\n",
        "    print(k,classification_report(y_test,pred))"
      ],
      "execution_count": null,
      "outputs": [
        {
          "output_type": "stream",
          "text": [
            "/usr/local/lib/python3.7/dist-packages/sklearn/metrics/_classification.py:1272: UndefinedMetricWarning: Precision and F-score are ill-defined and being set to 0.0 in labels with no predicted samples. Use `zero_division` parameter to control this behavior.\n",
            "  _warn_prf(average, modifier, msg_start, len(result))\n"
          ],
          "name": "stderr"
        },
        {
          "output_type": "stream",
          "text": [
            "SVC               precision    recall  f1-score   support\n",
            "\n",
            "          -1       0.50      0.51      0.50     16639\n",
            "           0       0.00      0.00      0.00       779\n",
            "           1       0.50      0.51      0.51     16522\n",
            "\n",
            "    accuracy                           0.50     33940\n",
            "   macro avg       0.33      0.34      0.34     33940\n",
            "weighted avg       0.49      0.50      0.49     33940\n",
            "\n"
          ],
          "name": "stdout"
        },
        {
          "output_type": "stream",
          "text": [
            "/usr/local/lib/python3.7/dist-packages/sklearn/metrics/_classification.py:1272: UndefinedMetricWarning: Precision and F-score are ill-defined and being set to 0.0 in labels with no predicted samples. Use `zero_division` parameter to control this behavior.\n",
            "  _warn_prf(average, modifier, msg_start, len(result))\n"
          ],
          "name": "stderr"
        },
        {
          "output_type": "stream",
          "text": [
            "KN               precision    recall  f1-score   support\n",
            "\n",
            "          -1       0.54      0.57      0.56     16639\n",
            "           0       0.00      0.00      0.00       779\n",
            "           1       0.54      0.55      0.55     16522\n",
            "\n",
            "    accuracy                           0.54     33940\n",
            "   macro avg       0.36      0.37      0.37     33940\n",
            "weighted avg       0.53      0.54      0.54     33940\n",
            "\n",
            "DT               precision    recall  f1-score   support\n",
            "\n",
            "          -1       0.56      0.58      0.57     16639\n",
            "           0       0.06      0.05      0.05       779\n",
            "           1       0.57      0.55      0.56     16522\n",
            "\n",
            "    accuracy                           0.56     33940\n",
            "   macro avg       0.40      0.39      0.40     33940\n",
            "weighted avg       0.55      0.56      0.55     33940\n",
            "\n"
          ],
          "name": "stdout"
        },
        {
          "output_type": "stream",
          "text": [
            "/usr/local/lib/python3.7/dist-packages/sklearn/svm/_base.py:947: ConvergenceWarning: Liblinear failed to converge, increase the number of iterations.\n",
            "  \"the number of iterations.\", ConvergenceWarning)\n",
            "/usr/local/lib/python3.7/dist-packages/sklearn/metrics/_classification.py:1272: UndefinedMetricWarning: Precision and F-score are ill-defined and being set to 0.0 in labels with no predicted samples. Use `zero_division` parameter to control this behavior.\n",
            "  _warn_prf(average, modifier, msg_start, len(result))\n"
          ],
          "name": "stderr"
        },
        {
          "output_type": "stream",
          "text": [
            "LR               precision    recall  f1-score   support\n",
            "\n",
            "          -1       0.63      0.63      0.63     16639\n",
            "           0       0.00      0.00      0.00       779\n",
            "           1       0.63      0.66      0.64     16522\n",
            "\n",
            "    accuracy                           0.63     33940\n",
            "   macro avg       0.42      0.43      0.42     33940\n",
            "weighted avg       0.62      0.63      0.62     33940\n",
            "\n",
            "RF               precision    recall  f1-score   support\n",
            "\n",
            "          -1       0.70      0.72      0.71     16639\n",
            "           0       0.25      0.03      0.06       779\n",
            "           1       0.70      0.71      0.71     16522\n",
            "\n",
            "    accuracy                           0.70     33940\n",
            "   macro avg       0.55      0.49      0.49     33940\n",
            "weighted avg       0.69      0.70      0.69     33940\n",
            "\n",
            "AdaBoost               precision    recall  f1-score   support\n",
            "\n",
            "          -1       0.51      0.55      0.53     16639\n",
            "           0       0.00      0.00      0.00       779\n",
            "           1       0.51      0.50      0.51     16522\n",
            "\n",
            "    accuracy                           0.51     33940\n",
            "   macro avg       0.34      0.35      0.35     33940\n",
            "weighted avg       0.50      0.51      0.51     33940\n",
            "\n",
            "BgC               precision    recall  f1-score   support\n",
            "\n",
            "          -1       0.60      0.63      0.62     16639\n",
            "           0       0.16      0.02      0.04       779\n",
            "           1       0.61      0.60      0.60     16522\n",
            "\n",
            "    accuracy                           0.60     33940\n",
            "   macro avg       0.46      0.42      0.42     33940\n",
            "weighted avg       0.59      0.60      0.60     33940\n",
            "\n",
            "ETC               precision    recall  f1-score   support\n",
            "\n",
            "          -1       0.71      0.73      0.72     16639\n",
            "           0       0.12      0.06      0.08       779\n",
            "           1       0.72      0.72      0.72     16522\n",
            "\n",
            "    accuracy                           0.71     33940\n",
            "   macro avg       0.52      0.50      0.50     33940\n",
            "weighted avg       0.70      0.71      0.70     33940\n",
            "\n",
            "DNN               precision    recall  f1-score   support\n",
            "\n",
            "          -1       0.50      0.37      0.42     16639\n",
            "           0       0.00      0.00      0.00       779\n",
            "           1       0.49      0.65      0.56     16522\n",
            "\n",
            "    accuracy                           0.49     33940\n",
            "   macro avg       0.33      0.34      0.33     33940\n",
            "weighted avg       0.48      0.49      0.48     33940\n",
            "\n"
          ],
          "name": "stdout"
        },
        {
          "output_type": "stream",
          "text": [
            "/usr/local/lib/python3.7/dist-packages/sklearn/metrics/_classification.py:1272: UndefinedMetricWarning: Precision and F-score are ill-defined and being set to 0.0 in labels with no predicted samples. Use `zero_division` parameter to control this behavior.\n",
            "  _warn_prf(average, modifier, msg_start, len(result))\n"
          ],
          "name": "stderr"
        }
      ]
    },
    {
      "cell_type": "code",
      "metadata": {
        "colab": {
          "base_uri": "https://localhost:8080/"
        },
        "id": "VrGeotb5HvGp",
        "outputId": "0113e20e-2758-4002-ea4e-ee1860f60057"
      },
      "source": [
        "trainY"
      ],
      "execution_count": null,
      "outputs": [
        {
          "output_type": "execute_result",
          "data": {
            "text/plain": [
              "array([ 0,  1, -1, ..., -1, -1, -1])"
            ]
          },
          "metadata": {
            "tags": []
          },
          "execution_count": 36
        }
      ]
    },
    {
      "cell_type": "code",
      "metadata": {
        "colab": {
          "base_uri": "https://localhost:8080/",
          "height": 52
        },
        "id": "Wi3YPmj3H0P0",
        "outputId": "85c6de9c-a2d9-494a-d132-190104684e95"
      },
      "source": [
        "'''\n",
        "train_size = int(len(trainX) * 0.9)\n",
        "test_size = len(trainX) - train_size\n",
        "\n",
        "X_train, X_test = trainX[0:train_size], trainX[train_size:len(trainX)]\n",
        "y_train, y_test = trainY[0:train_size], trainY[train_size:len(trainY)]\n",
        "\n",
        "'''"
      ],
      "execution_count": null,
      "outputs": [
        {
          "output_type": "execute_result",
          "data": {
            "application/vnd.google.colaboratory.intrinsic+json": {
              "type": "string"
            },
            "text/plain": [
              "'\\ntrain_size = int(len(trainX) * 0.9)\\ntest_size = len(trainX) - train_size\\n\\nX_train, X_test = trainX[0:train_size], trainX[train_size:len(trainX)]\\ny_train, y_test = trainY[0:train_size], trainY[train_size:len(trainY)]\\n\\n'"
            ]
          },
          "metadata": {
            "tags": []
          },
          "execution_count": 28
        }
      ]
    },
    {
      "cell_type": "code",
      "metadata": {
        "id": "V0z3Qc77H6tS"
      },
      "source": [
        "# import Keras modules\n",
        "import tensorflow as tf\n",
        "from keras.models import Sequential\n",
        "from keras.layers import Dense\n",
        "from keras.layers import Dropout\n",
        "from keras.layers import LSTM\n",
        "from keras.wrappers.scikit_learn import KerasClassifier\n",
        "from sklearn.model_selection import KFold\n",
        "from sklearn.model_selection import cross_val_score"
      ],
      "execution_count": null,
      "outputs": []
    },
    {
      "cell_type": "code",
      "metadata": {
        "colab": {
          "base_uri": "https://localhost:8080/"
        },
        "id": "xem0yQH5IBIT",
        "outputId": "a9af7482-da8f-43ad-f26d-0f26fd044405"
      },
      "source": [
        "model = Sequential()\n",
        "model.add(LSTM(25, dropout=0.2, input_shape=(trainX.shape[1], trainX.shape[2])))\n",
        "model.add(Dense(3, activation='softmax'))\n",
        "model.compile(loss='sparse_categorical_crossentropy', optimizer='adam', metrics=['accuracy'])\n",
        "history = model.fit(trainX, trainY, epochs=20, batch_size=50,  validation_split =0.2)\n"
      ],
      "execution_count": null,
      "outputs": [
        {
          "output_type": "stream",
          "text": [
            "Epoch 1/20\n",
            "2715/2715 [==============================] - 53s 13ms/step - loss: 0.7082 - accuracy: 0.4882 - val_loss: 0.6934 - val_accuracy: 0.4813\n",
            "Epoch 2/20\n",
            "2715/2715 [==============================] - 32s 12ms/step - loss: 0.6938 - accuracy: 0.4881 - val_loss: 0.6938 - val_accuracy: 0.4813\n",
            "Epoch 3/20\n",
            "2715/2715 [==============================] - 32s 12ms/step - loss: 0.6938 - accuracy: 0.4916 - val_loss: 0.6987 - val_accuracy: 0.4862\n",
            "Epoch 4/20\n",
            "2715/2715 [==============================] - 33s 12ms/step - loss: 0.6938 - accuracy: 0.4905 - val_loss: 0.6926 - val_accuracy: 0.4862\n",
            "Epoch 5/20\n",
            "2715/2715 [==============================] - 33s 12ms/step - loss: 0.6935 - accuracy: 0.4893 - val_loss: 0.6926 - val_accuracy: 0.4862\n",
            "Epoch 6/20\n",
            "2715/2715 [==============================] - 33s 12ms/step - loss: 0.6934 - accuracy: 0.4906 - val_loss: 0.6923 - val_accuracy: 0.4864\n",
            "Epoch 7/20\n",
            "2715/2715 [==============================] - 33s 12ms/step - loss: 0.6935 - accuracy: 0.4882 - val_loss: 0.6923 - val_accuracy: 0.4881\n",
            "Epoch 8/20\n",
            "2715/2715 [==============================] - 33s 12ms/step - loss: 0.6932 - accuracy: 0.4928 - val_loss: 0.6931 - val_accuracy: 0.4862\n",
            "Epoch 9/20\n",
            "2715/2715 [==============================] - 33s 12ms/step - loss: 0.6934 - accuracy: 0.4903 - val_loss: 0.6933 - val_accuracy: 0.4813\n",
            "Epoch 10/20\n",
            "2715/2715 [==============================] - 33s 12ms/step - loss: 0.6933 - accuracy: 0.4929 - val_loss: 0.6928 - val_accuracy: 0.4901\n",
            "Epoch 11/20\n",
            "2715/2715 [==============================] - 32s 12ms/step - loss: 0.6933 - accuracy: 0.4891 - val_loss: 0.6923 - val_accuracy: 0.4863\n",
            "Epoch 12/20\n",
            "2715/2715 [==============================] - 33s 12ms/step - loss: 0.6932 - accuracy: 0.4917 - val_loss: 0.6924 - val_accuracy: 0.4861\n",
            "Epoch 13/20\n",
            "2715/2715 [==============================] - 32s 12ms/step - loss: 0.6930 - accuracy: 0.4932 - val_loss: 0.6923 - val_accuracy: 0.4862\n",
            "Epoch 14/20\n",
            "2715/2715 [==============================] - 32s 12ms/step - loss: 0.6932 - accuracy: 0.4918 - val_loss: 0.6927 - val_accuracy: 0.4864\n",
            "Epoch 15/20\n",
            "2715/2715 [==============================] - 32s 12ms/step - loss: 0.6931 - accuracy: 0.4923 - val_loss: 0.6923 - val_accuracy: 0.4862\n",
            "Epoch 16/20\n",
            "2715/2715 [==============================] - 32s 12ms/step - loss: 0.6929 - accuracy: 0.4964 - val_loss: 0.6931 - val_accuracy: 0.4839\n",
            "Epoch 17/20\n",
            "2715/2715 [==============================] - 32s 12ms/step - loss: 0.6930 - accuracy: 0.4944 - val_loss: 0.6924 - val_accuracy: 0.4865\n",
            "Epoch 18/20\n",
            "2715/2715 [==============================] - 33s 12ms/step - loss: 0.6931 - accuracy: 0.4918 - val_loss: 0.6924 - val_accuracy: 0.4862\n",
            "Epoch 19/20\n",
            "2715/2715 [==============================] - 32s 12ms/step - loss: 0.6930 - accuracy: 0.4921 - val_loss: 0.6923 - val_accuracy: 0.4867\n",
            "Epoch 20/20\n",
            "2715/2715 [==============================] - 33s 12ms/step - loss: 0.6930 - accuracy: 0.4954 - val_loss: 0.6923 - val_accuracy: 0.4862\n"
          ],
          "name": "stdout"
        }
      ]
    },
    {
      "cell_type": "code",
      "metadata": {
        "id": "HPOvWyuFXUPO"
      },
      "source": [],
      "execution_count": null,
      "outputs": []
    },
    {
      "cell_type": "code",
      "metadata": {
        "id": "_dNwXjFfNhu1"
      },
      "source": [
        "kfold = KFold(n_splits = 5)"
      ],
      "execution_count": null,
      "outputs": []
    },
    {
      "cell_type": "code",
      "metadata": {
        "id": "8Rsu8ndwMLJd"
      },
      "source": [
        "estimator = KerasClassifier(build_fn = baseline_model, epochs = 20, batch_size = 10, verbose = 0)"
      ],
      "execution_count": null,
      "outputs": []
    },
    {
      "cell_type": "code",
      "metadata": {
        "colab": {
          "base_uri": "https://localhost:8080/"
        },
        "id": "ULW-3W3iMoUz",
        "outputId": "2ec129d4-4f5e-4fe0-ec63-7c2624965e09"
      },
      "source": [
        "results = cross_val_score(estimator, trainX, trainY, cv = kfold)"
      ],
      "execution_count": null,
      "outputs": [
        {
          "output_type": "stream",
          "text": [
            "/usr/local/lib/python3.7/dist-packages/sklearn/model_selection/_validation.py:536: FitFailedWarning: Estimator fit failed. The score on this train-test partition for these parameters will be set to nan. Details: \n",
            "IndexError: tuple index out of range\n",
            "\n",
            "  FitFailedWarning)\n"
          ],
          "name": "stderr"
        }
      ]
    }
  ]
}